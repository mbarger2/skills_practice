{
 "cells": [
  {
   "cell_type": "markdown",
   "id": "7906e527",
   "metadata": {},
   "source": [
    "# Silly Name Generator"
   ]
  },
  {
   "cell_type": "code",
   "execution_count": 7,
   "id": "adc50b4c",
   "metadata": {},
   "outputs": [],
   "source": [
    "import pandas as pd\n",
    "import sys, random"
   ]
  },
  {
   "cell_type": "code",
   "execution_count": 8,
   "id": "029c9b96",
   "metadata": {},
   "outputs": [
    {
     "name": "stdout",
     "output_type": "stream",
     "text": [
      "Welcome to the Psych 'Sidekick Name Picker.'\n",
      "\n",
      "A name just like Sean would pick for Gus:\n",
      "\n",
      "\n"
     ]
    }
   ],
   "source": [
    "print(\"Welcome to the Psych 'Sidekick Name Picker.'\\n\")\n",
    "print(\"A name just like Sean would pick for Gus:\\n\\n\")"
   ]
  },
  {
   "cell_type": "code",
   "execution_count": 4,
   "id": "001b6350",
   "metadata": {},
   "outputs": [],
   "source": [
    "#import excel sheet with lists of funny first and last names\n",
    "sgn = pd.read_excel('C://Users//Owner//DA/Weekly Projects//skills_practice//python//Impractical Projects//randomnames.xlsx')"
   ]
  },
  {
   "cell_type": "code",
   "execution_count": 6,
   "id": "135cacb7",
   "metadata": {},
   "outputs": [
    {
     "data": {
      "text/html": [
       "<div>\n",
       "<style scoped>\n",
       "    .dataframe tbody tr th:only-of-type {\n",
       "        vertical-align: middle;\n",
       "    }\n",
       "\n",
       "    .dataframe tbody tr th {\n",
       "        vertical-align: top;\n",
       "    }\n",
       "\n",
       "    .dataframe thead th {\n",
       "        text-align: right;\n",
       "    }\n",
       "</style>\n",
       "<table border=\"1\" class=\"dataframe\">\n",
       "  <thead>\n",
       "    <tr style=\"text-align: right;\">\n",
       "      <th></th>\n",
       "      <th>First</th>\n",
       "      <th>Last</th>\n",
       "    </tr>\n",
       "  </thead>\n",
       "  <tbody>\n",
       "    <tr>\n",
       "      <th>0</th>\n",
       "      <td>Baby Oil</td>\n",
       "      <td>Appleyard</td>\n",
       "    </tr>\n",
       "    <tr>\n",
       "      <th>1</th>\n",
       "      <td>Bad News</td>\n",
       "      <td>Bigmeat</td>\n",
       "    </tr>\n",
       "    <tr>\n",
       "      <th>2</th>\n",
       "      <td>Big Burps</td>\n",
       "      <td>Bloominshine</td>\n",
       "    </tr>\n",
       "    <tr>\n",
       "      <th>3</th>\n",
       "      <td>Bill 'Beenie-Weenie'</td>\n",
       "      <td>Boogerbottom</td>\n",
       "    </tr>\n",
       "    <tr>\n",
       "      <th>4</th>\n",
       "      <td>Bowel Noises</td>\n",
       "      <td>Breedslovetrout</td>\n",
       "    </tr>\n",
       "    <tr>\n",
       "      <th>...</th>\n",
       "      <td>...</td>\n",
       "      <td>...</td>\n",
       "    </tr>\n",
       "    <tr>\n",
       "      <th>61</th>\n",
       "      <td>Sweet Tea</td>\n",
       "      <td>wigglesworth</td>\n",
       "    </tr>\n",
       "    <tr>\n",
       "      <th>62</th>\n",
       "      <td>TeeTee</td>\n",
       "      <td>Wimplesnatch</td>\n",
       "    </tr>\n",
       "    <tr>\n",
       "      <th>63</th>\n",
       "      <td>Wheezy Joe</td>\n",
       "      <td>Winterkorn</td>\n",
       "    </tr>\n",
       "    <tr>\n",
       "      <th>64</th>\n",
       "      <td>Winston 'Jazz Hands'</td>\n",
       "      <td>Woolysocks</td>\n",
       "    </tr>\n",
       "    <tr>\n",
       "      <th>65</th>\n",
       "      <td>Worms</td>\n",
       "      <td>NaN</td>\n",
       "    </tr>\n",
       "  </tbody>\n",
       "</table>\n",
       "<p>66 rows × 2 columns</p>\n",
       "</div>"
      ],
      "text/plain": [
       "                   First             Last\n",
       "0               Baby Oil        Appleyard\n",
       "1               Bad News          Bigmeat\n",
       "2              Big Burps     Bloominshine\n",
       "3   Bill 'Beenie-Weenie'     Boogerbottom\n",
       "4           Bowel Noises  Breedslovetrout\n",
       "..                   ...              ...\n",
       "61             Sweet Tea     wigglesworth\n",
       "62                TeeTee     Wimplesnatch\n",
       "63            Wheezy Joe       Winterkorn\n",
       "64  Winston 'Jazz Hands'       Woolysocks\n",
       "65                 Worms              NaN\n",
       "\n",
       "[66 rows x 2 columns]"
      ]
     },
     "execution_count": 6,
     "metadata": {},
     "output_type": "execute_result"
    }
   ],
   "source": [
    "sgn"
   ]
  },
  {
   "cell_type": "code",
   "execution_count": 47,
   "id": "a0acb380",
   "metadata": {},
   "outputs": [],
   "source": [
    "#convert first name list to tuple\n",
    "firstname = tuple(sgn['First'])"
   ]
  },
  {
   "cell_type": "code",
   "execution_count": 48,
   "id": "9fe213c0",
   "metadata": {},
   "outputs": [
    {
     "data": {
      "text/plain": [
       "('Baby Oil',\n",
       " 'Bad News',\n",
       " 'Big Burps',\n",
       " \"Bill 'Beenie-Weenie'\",\n",
       " 'Bowel Noises',\n",
       " 'Boxelder',\n",
       " \"Bud 'Lite'\",\n",
       " 'Butterbean',\n",
       " 'Buttermilk',\n",
       " 'Buttocks',\n",
       " 'Chad',\n",
       " 'Chesterfield',\n",
       " 'Chewy',\n",
       " 'chigger',\n",
       " 'Cinnabuns',\n",
       " 'cleet',\n",
       " 'Cornbreak=d',\n",
       " 'Crab Meat ',\n",
       " 'Crapps',\n",
       " 'Dark Skies',\n",
       " 'Dennis Clawhammer',\n",
       " 'dicman',\n",
       " 'Elphonso',\n",
       " 'Fancypants',\n",
       " 'Figgs',\n",
       " 'Foncy',\n",
       " 'Gootsy',\n",
       " 'Greasy Jim',\n",
       " 'Huckleberry',\n",
       " 'Huggy',\n",
       " 'Ignatious',\n",
       " 'Jimbo',\n",
       " \"Joe 'Pottin Soil'\",\n",
       " 'Johnny',\n",
       " 'Lil Debil',\n",
       " 'Lemongrass',\n",
       " 'Longbranch',\n",
       " 'Lunch Money',\n",
       " 'Mergatroid',\n",
       " 'Mr Peabody',\n",
       " 'Oil-Can',\n",
       " 'Oinks',\n",
       " 'Old Scratch',\n",
       " 'Ovaltine',\n",
       " 'Pennywhisle',\n",
       " 'Pitchfork Ben',\n",
       " 'Potato Bug',\n",
       " 'Pushmeet',\n",
       " 'Rock Candy',\n",
       " 'Schlomo',\n",
       " 'Scratchensniff',\n",
       " 'Scut',\n",
       " \"Sid 'The Squirts'\",\n",
       " 'Skidmark',\n",
       " 'Slaps Snakes Snoobs',\n",
       " 'Snorki',\n",
       " 'Soupcan Sam',\n",
       " 'Spitzitout',\n",
       " 'Squids',\n",
       " 'Stinky',\n",
       " 'Storyboard',\n",
       " 'Sweet Tea',\n",
       " 'TeeTee',\n",
       " 'Wheezy Joe',\n",
       " \"Winston 'Jazz Hands'\",\n",
       " 'Worms')"
      ]
     },
     "execution_count": 48,
     "metadata": {},
     "output_type": "execute_result"
    }
   ],
   "source": [
    "firstname"
   ]
  },
  {
   "cell_type": "code",
   "execution_count": 27,
   "id": "b86c80e9",
   "metadata": {},
   "outputs": [],
   "source": [
    "#convert last name list to tuple\n",
    "Lasttuple=tuple(lastlist)"
   ]
  },
  {
   "cell_type": "code",
   "execution_count": 45,
   "id": "0624d70a",
   "metadata": {},
   "outputs": [],
   "source": [
    "#remove nan value from Lasttuple\n",
    "lastname=Lasttuple[0:65]"
   ]
  },
  {
   "cell_type": "code",
   "execution_count": 46,
   "id": "d1108826",
   "metadata": {},
   "outputs": [
    {
     "data": {
      "text/plain": [
       "('Appleyard',\n",
       " 'Bigmeat',\n",
       " 'Bloominshine',\n",
       " 'Boogerbottom',\n",
       " 'Breedslovetrout',\n",
       " 'Butterbaugh',\n",
       " 'Clovenhoof',\n",
       " 'Cutterbuck',\n",
       " 'Cocktoasten',\n",
       " 'Endicott',\n",
       " 'Fewhairs',\n",
       " 'Gooberdapple',\n",
       " 'Goodensmith',\n",
       " 'Goodpasture',\n",
       " 'Guster',\n",
       " 'Henderson',\n",
       " 'Hooperbag',\n",
       " 'Hoosenater',\n",
       " 'Hottkins',\n",
       " 'Jefferson',\n",
       " 'Jenkins',\n",
       " 'Jingley-Schmidt',\n",
       " 'Johnson',\n",
       " 'Kingfish',\n",
       " 'Listenbee',\n",
       " \"M'Bembo\",\n",
       " 'McFadden',\n",
       " 'Monnshine',\n",
       " 'Nettles',\n",
       " 'Noseworty',\n",
       " 'Olivetti',\n",
       " 'Outerbridge',\n",
       " 'Overpeck',\n",
       " 'Overturf',\n",
       " 'Oxhandler',\n",
       " 'Pealike',\n",
       " 'Pennywhistle',\n",
       " 'Peterson',\n",
       " 'Pieplow',\n",
       " 'Pinkerton',\n",
       " 'Porkins',\n",
       " 'Putney',\n",
       " 'Quakenbush',\n",
       " 'Rainwater',\n",
       " 'Rosenthal',\n",
       " 'Rubbins',\n",
       " 'Sackrider',\n",
       " 'Snuggleshine',\n",
       " 'Splern',\n",
       " 'Stevens',\n",
       " 'Stroganoff',\n",
       " 'Sugar-Gold',\n",
       " 'Swackhamer',\n",
       " 'Tippins',\n",
       " 'Turnipseed',\n",
       " 'Vinaegrette',\n",
       " 'Walkingstick',\n",
       " 'Wallbanger',\n",
       " 'Weewax',\n",
       " 'Weiners',\n",
       " 'Whipkey',\n",
       " 'wigglesworth',\n",
       " 'Wimplesnatch',\n",
       " 'Winterkorn',\n",
       " 'Woolysocks')"
      ]
     },
     "execution_count": 46,
     "metadata": {},
     "output_type": "execute_result"
    }
   ],
   "source": [
    "lastname"
   ]
  },
  {
   "cell_type": "code",
   "execution_count": 21,
   "id": "4a249b4f",
   "metadata": {},
   "outputs": [],
   "source": [
    "# filter lastnames by nan value\n",
    "Last = tuple(sgn['Last'].notna()==True)"
   ]
  },
  {
   "cell_type": "code",
   "execution_count": 53,
   "id": "0e6de8fd",
   "metadata": {},
   "outputs": [
    {
     "name": "stderr",
     "output_type": "stream",
     "text": [
      "Bill 'Beenie-Weenie' Cocktoasten\n"
     ]
    },
    {
     "name": "stdout",
     "output_type": "stream",
     "text": [
      "\n",
      "\n",
      "\n",
      "\n",
      "\n",
      "\n",
      "\n",
      "\n",
      "Tryagain? (Press Enter else n to quit)\n",
      " \n"
     ]
    },
    {
     "name": "stderr",
     "output_type": "stream",
     "text": [
      "Slaps Snakes Snoobs Bloominshine\n"
     ]
    },
    {
     "name": "stdout",
     "output_type": "stream",
     "text": [
      "\n",
      "\n",
      "\n",
      "\n",
      "\n",
      "\n",
      "\n",
      "\n",
      "Tryagain? (Press Enter else n to quit)\n",
      " n\n"
     ]
    }
   ],
   "source": [
    "#run a while loop to generate random combinations of first and last names until user decides to stop\n",
    "while True:\n",
    "    #randomly pick a first name\n",
    "    firstName=random.choice(firstname)\n",
    "    #randomly pick a last name\n",
    "    lastName=random.choice(lastname)\n",
    "    print(\"\\n\\n\")\n",
    "    #use sys library to present randomized names together and return them to user\n",
    "    print(\"{} {}\".format(firstName, lastName), file=sys.stderr)\n",
    "    print(\"\\n\\n\")\n",
    "    #prompt to regenerate names or quit\n",
    "    try_again=input(\"\\n\\nTryagain? (Press Enter else n to quit)\\n \")\n",
    "    #if user enters 'n' to quit, loop breaks\n",
    "    if try_again.lower() == \"n\":\n",
    "        break"
   ]
  },
  {
   "cell_type": "code",
   "execution_count": null,
   "id": "20d512c3",
   "metadata": {},
   "outputs": [],
   "source": []
  }
 ],
 "metadata": {
  "kernelspec": {
   "display_name": "Python 3 (ipykernel)",
   "language": "python",
   "name": "python3"
  },
  "language_info": {
   "codemirror_mode": {
    "name": "ipython",
    "version": 3
   },
   "file_extension": ".py",
   "mimetype": "text/x-python",
   "name": "python",
   "nbconvert_exporter": "python",
   "pygments_lexer": "ipython3",
   "version": "3.9.7"
  }
 },
 "nbformat": 4,
 "nbformat_minor": 5
}
