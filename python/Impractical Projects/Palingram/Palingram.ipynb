{
 "cells": [
  {
   "cell_type": "code",
   "execution_count": null,
   "id": "0c939425",
   "metadata": {},
   "outputs": [],
   "source": []
  },
  {
   "cell_type": "code",
   "execution_count": null,
   "id": "bbda65fb",
   "metadata": {},
   "outputs": [],
   "source": [
    "#try/except when reading resource files\n",
    "http://wordlist.aspell.net/12dicts/\n",
    "https://inventwithpython.com/dictionary.txt\n",
    "http://www-personal.umich.edu/~jlawler/wordlist.html\n",
    "http://greenteapress.com/thinkpython2/code/words.txt"
   ]
  }
 ],
 "metadata": {
  "kernelspec": {
   "display_name": "Python 3 (ipykernel)",
   "language": "python",
   "name": "python3"
  },
  "language_info": {
   "codemirror_mode": {
    "name": "ipython",
    "version": 3
   },
   "file_extension": ".py",
   "mimetype": "text/x-python",
   "name": "python",
   "nbconvert_exporter": "python",
   "pygments_lexer": "ipython3",
   "version": "3.9.7"
  }
 },
 "nbformat": 4,
 "nbformat_minor": 5
}
