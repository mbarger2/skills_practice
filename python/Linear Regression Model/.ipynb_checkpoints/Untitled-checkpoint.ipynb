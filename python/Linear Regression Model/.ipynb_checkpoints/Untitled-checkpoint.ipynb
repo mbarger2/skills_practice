{
 "cells": [
  {
   "cell_type": "code",
   "execution_count": 1,
   "id": "613921df",
   "metadata": {},
   "outputs": [],
   "source": [
    "import pandas as pd\n",
    "import numpy as np"
   ]
  },
  {
   "cell_type": "code",
   "execution_count": null,
   "id": "7cffd036",
   "metadata": {},
   "outputs": [],
   "source": [
    "teams = pd.read_csv(\"teams_csv\")"
   ]
  }
 ],
 "metadata": {
  "kernelspec": {
   "display_name": "Python 3 (ipykernel)",
   "language": "python",
   "name": "python3"
  },
  "language_info": {
   "codemirror_mode": {
    "name": "ipython",
    "version": 3
   },
   "file_extension": ".py",
   "mimetype": "text/x-python",
   "name": "python",
   "nbconvert_exporter": "python",
   "pygments_lexer": "ipython3",
   "version": "3.9.7"
  }
 },
 "nbformat": 4,
 "nbformat_minor": 5
}
