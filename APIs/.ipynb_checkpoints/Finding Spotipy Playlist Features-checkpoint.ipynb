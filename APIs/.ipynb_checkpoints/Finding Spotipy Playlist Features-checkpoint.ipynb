{
 "cells": [
  {
   "cell_type": "markdown",
   "id": "e51c5d96",
   "metadata": {},
   "source": [
    "# Spotipy Features Dataframe"
   ]
  },
  {
   "cell_type": "code",
   "execution_count": null,
   "id": "83173a5f",
   "metadata": {},
   "outputs": [],
   "source": [
    "pip install spotipy"
   ]
  },
  {
   "cell_type": "code",
   "execution_count": 18,
   "id": "1de98d52",
   "metadata": {},
   "outputs": [],
   "source": [
    "import spotipy\n",
    "import json\n",
    "import pandas as pd\n",
    "from spotipy.oauth2 import SpotifyClientCredentials\n",
    "\n",
    "#Initialize SpotiPy with user credentials\n",
    "sp = spotipy.Spotify(auth_manager=SpotifyClientCredentials(client_id=\"30da7dcb7eeb4f038924583a5dc6dfb3\",\n",
    "                                                           client_secret=\"d4d0d4cc03c3457bb24ec6dd80b17441\"))\n"
   ]
  },
  {
   "cell_type": "code",
   "execution_count": 19,
   "id": "3ecac663",
   "metadata": {},
   "outputs": [
    {
     "name": "stdout",
     "output_type": "stream",
     "text": [
      "client_id: ········\n",
      "client_secret: ········\n"
     ]
    }
   ],
   "source": [
    "import spotipy\n",
    "from spotipy.oauth2 import SpotifyClientCredentials\n",
    "\n",
    "import getpass\n",
    "client_id = getpass.getpass(prompt='client_id: ', stream=None)\n",
    "client_secret = getpass.getpass(prompt='client_secret: ', stream=None)"
   ]
  },
  {
   "cell_type": "code",
   "execution_count": 20,
   "id": "21d97b5e",
   "metadata": {},
   "outputs": [],
   "source": [
    "#Initialize SpotiPy with user credentials\n",
    "sp = spotipy.Spotify(auth_manager=SpotifyClientCredentials(client_id=client_id,\n",
    "                                                           client_secret=client_secret))"
   ]
  },
  {
   "cell_type": "markdown",
   "id": "c0d2cdc7",
   "metadata": {},
   "source": [
    "## Create a loop to search all pages of the playlist results and add track info to a dictionary"
   ]
  },
  {
   "cell_type": "code",
   "execution_count": 84,
   "id": "d3b09e78",
   "metadata": {},
   "outputs": [],
   "source": [
    "def get_songs_artist(user, playlist_id):\n",
    "    songs_artist = {}\n",
    "    results = sp.user_playlist_tracks(user, playlist_id)\n",
    "    for item in results['items']:\n",
    "        song_name = item['track']['name']\n",
    "        artist = item['track']['artists'][0]['name']\n",
    "        song_id = item['track']['uri'].split(':')[-1]\n",
    "        songs_artist[song_id] = {'song_name':song_name, 'artist':artist}\n",
    "    while results['next']:\n",
    "        results = sp.next(results)\n",
    "        for item in results['items']:\n",
    "            song_name = item['track']['name']\n",
    "            artist = item['track']['artists'][0]['name']\n",
    "            song_id = item['track']['uri'].split(':')[-1]\n",
    "            songs_artist[song_id] = {'song_name':song_name, 'artist':artist}\n",
    "    return songs_artist"
   ]
  },
  {
   "cell_type": "code",
   "execution_count": 85,
   "id": "182a825e",
   "metadata": {},
   "outputs": [],
   "source": [
    "songs = get_songs_artist(\"spotify\", \"4rnleEAOdmFAbRcNCgZMpY\")"
   ]
  },
  {
   "cell_type": "markdown",
   "id": "cf346b0f",
   "metadata": {},
   "source": [
    "## Convert to DataFrame"
   ]
  },
  {
   "cell_type": "code",
   "execution_count": 7,
   "id": "939252e5",
   "metadata": {},
   "outputs": [],
   "source": [
    "data=pd.DataFrame(songs).T.reset_index()"
   ]
  },
  {
   "cell_type": "code",
   "execution_count": 8,
   "id": "85d8ecab",
   "metadata": {},
   "outputs": [
    {
     "data": {
      "text/html": [
       "<div>\n",
       "<style scoped>\n",
       "    .dataframe tbody tr th:only-of-type {\n",
       "        vertical-align: middle;\n",
       "    }\n",
       "\n",
       "    .dataframe tbody tr th {\n",
       "        vertical-align: top;\n",
       "    }\n",
       "\n",
       "    .dataframe thead th {\n",
       "        text-align: right;\n",
       "    }\n",
       "</style>\n",
       "<table border=\"1\" class=\"dataframe\">\n",
       "  <thead>\n",
       "    <tr style=\"text-align: right;\">\n",
       "      <th></th>\n",
       "      <th>index</th>\n",
       "      <th>song_name</th>\n",
       "      <th>artist</th>\n",
       "    </tr>\n",
       "  </thead>\n",
       "  <tbody>\n",
       "    <tr>\n",
       "      <th>0</th>\n",
       "      <td>7dS5EaCoMnN7DzlpT6aRn2</td>\n",
       "      <td>Take Me To Church</td>\n",
       "      <td>Hozier</td>\n",
       "    </tr>\n",
       "    <tr>\n",
       "      <th>1</th>\n",
       "      <td>2V4bv1fNWfTcyRJKmej6Sj</td>\n",
       "      <td>Cooler Than Me - Single Mix</td>\n",
       "      <td>Mike Posner</td>\n",
       "    </tr>\n",
       "    <tr>\n",
       "      <th>2</th>\n",
       "      <td>7KA4W4McWYRpgf0fWsJZWB</td>\n",
       "      <td>See You Again (feat. Kali Uchis)</td>\n",
       "      <td>Tyler, The Creator</td>\n",
       "    </tr>\n",
       "    <tr>\n",
       "      <th>3</th>\n",
       "      <td>3gbBpTdY8lnQwqxNCcf795</td>\n",
       "      <td>Pompeii</td>\n",
       "      <td>Bastille</td>\n",
       "    </tr>\n",
       "    <tr>\n",
       "      <th>4</th>\n",
       "      <td>3ZFTkvIE7kyPt6Nu3PEa7V</td>\n",
       "      <td>Hips Don't Lie (feat. Wyclef Jean)</td>\n",
       "      <td>Shakira</td>\n",
       "    </tr>\n",
       "  </tbody>\n",
       "</table>\n",
       "</div>"
      ],
      "text/plain": [
       "                    index                           song_name  \\\n",
       "0  7dS5EaCoMnN7DzlpT6aRn2                   Take Me To Church   \n",
       "1  2V4bv1fNWfTcyRJKmej6Sj         Cooler Than Me - Single Mix   \n",
       "2  7KA4W4McWYRpgf0fWsJZWB    See You Again (feat. Kali Uchis)   \n",
       "3  3gbBpTdY8lnQwqxNCcf795                             Pompeii   \n",
       "4  3ZFTkvIE7kyPt6Nu3PEa7V  Hips Don't Lie (feat. Wyclef Jean)   \n",
       "\n",
       "               artist  \n",
       "0              Hozier  \n",
       "1         Mike Posner  \n",
       "2  Tyler, The Creator  \n",
       "3            Bastille  \n",
       "4             Shakira  "
      ]
     },
     "execution_count": 8,
     "metadata": {},
     "output_type": "execute_result"
    }
   ],
   "source": [
    "data.head()"
   ]
  },
  {
   "cell_type": "markdown",
   "id": "0b15ac34",
   "metadata": {},
   "source": [
    "## Using song ids in first column, add column for song features"
   ]
  },
  {
   "cell_type": "code",
   "execution_count": 9,
   "id": "97dbb50d",
   "metadata": {},
   "outputs": [],
   "source": [
    "combo_dataframe=data"
   ]
  },
  {
   "cell_type": "code",
   "execution_count": 10,
   "id": "e660c224",
   "metadata": {},
   "outputs": [],
   "source": [
    "combo_dataframe['audio features']=list(map(lambda x: sp.audio_features(x)[0],data['index']))"
   ]
  },
  {
   "cell_type": "code",
   "execution_count": 14,
   "id": "24fb0de9",
   "metadata": {},
   "outputs": [
    {
     "data": {
      "text/html": [
       "<div>\n",
       "<style scoped>\n",
       "    .dataframe tbody tr th:only-of-type {\n",
       "        vertical-align: middle;\n",
       "    }\n",
       "\n",
       "    .dataframe tbody tr th {\n",
       "        vertical-align: top;\n",
       "    }\n",
       "\n",
       "    .dataframe thead th {\n",
       "        text-align: right;\n",
       "    }\n",
       "</style>\n",
       "<table border=\"1\" class=\"dataframe\">\n",
       "  <thead>\n",
       "    <tr style=\"text-align: right;\">\n",
       "      <th></th>\n",
       "      <th>index</th>\n",
       "      <th>song_name</th>\n",
       "      <th>artist</th>\n",
       "      <th>audio features</th>\n",
       "    </tr>\n",
       "  </thead>\n",
       "  <tbody>\n",
       "    <tr>\n",
       "      <th>0</th>\n",
       "      <td>7dS5EaCoMnN7DzlpT6aRn2</td>\n",
       "      <td>Take Me To Church</td>\n",
       "      <td>Hozier</td>\n",
       "      <td>{'danceability': 0.566, 'energy': 0.664, 'key'...</td>\n",
       "    </tr>\n",
       "    <tr>\n",
       "      <th>1</th>\n",
       "      <td>2V4bv1fNWfTcyRJKmej6Sj</td>\n",
       "      <td>Cooler Than Me - Single Mix</td>\n",
       "      <td>Mike Posner</td>\n",
       "      <td>{'danceability': 0.768, 'energy': 0.82, 'key':...</td>\n",
       "    </tr>\n",
       "    <tr>\n",
       "      <th>2</th>\n",
       "      <td>7KA4W4McWYRpgf0fWsJZWB</td>\n",
       "      <td>See You Again (feat. Kali Uchis)</td>\n",
       "      <td>Tyler, The Creator</td>\n",
       "      <td>{'danceability': 0.558, 'energy': 0.559, 'key'...</td>\n",
       "    </tr>\n",
       "    <tr>\n",
       "      <th>3</th>\n",
       "      <td>3gbBpTdY8lnQwqxNCcf795</td>\n",
       "      <td>Pompeii</td>\n",
       "      <td>Bastille</td>\n",
       "      <td>{'danceability': 0.679, 'energy': 0.715, 'key'...</td>\n",
       "    </tr>\n",
       "    <tr>\n",
       "      <th>4</th>\n",
       "      <td>3ZFTkvIE7kyPt6Nu3PEa7V</td>\n",
       "      <td>Hips Don't Lie (feat. Wyclef Jean)</td>\n",
       "      <td>Shakira</td>\n",
       "      <td>{'danceability': 0.778, 'energy': 0.824, 'key'...</td>\n",
       "    </tr>\n",
       "  </tbody>\n",
       "</table>\n",
       "</div>"
      ],
      "text/plain": [
       "                    index                           song_name  \\\n",
       "0  7dS5EaCoMnN7DzlpT6aRn2                   Take Me To Church   \n",
       "1  2V4bv1fNWfTcyRJKmej6Sj         Cooler Than Me - Single Mix   \n",
       "2  7KA4W4McWYRpgf0fWsJZWB    See You Again (feat. Kali Uchis)   \n",
       "3  3gbBpTdY8lnQwqxNCcf795                             Pompeii   \n",
       "4  3ZFTkvIE7kyPt6Nu3PEa7V  Hips Don't Lie (feat. Wyclef Jean)   \n",
       "\n",
       "               artist                                     audio features  \n",
       "0              Hozier  {'danceability': 0.566, 'energy': 0.664, 'key'...  \n",
       "1         Mike Posner  {'danceability': 0.768, 'energy': 0.82, 'key':...  \n",
       "2  Tyler, The Creator  {'danceability': 0.558, 'energy': 0.559, 'key'...  \n",
       "3            Bastille  {'danceability': 0.679, 'energy': 0.715, 'key'...  \n",
       "4             Shakira  {'danceability': 0.778, 'energy': 0.824, 'key'...  "
      ]
     },
     "execution_count": 14,
     "metadata": {},
     "output_type": "execute_result"
    }
   ],
   "source": [
    "combo_dataframe.head()"
   ]
  },
  {
   "cell_type": "markdown",
   "id": "4bc8348d",
   "metadata": {},
   "source": [
    "## Create individual columns for the individual audio features "
   ]
  },
  {
   "cell_type": "code",
   "execution_count": 15,
   "id": "067bb0ae",
   "metadata": {},
   "outputs": [],
   "source": [
    "audio_df=pd.json_normalize(combo_dataframe['audio features'])"
   ]
  },
  {
   "cell_type": "code",
   "execution_count": 16,
   "id": "af702b83",
   "metadata": {},
   "outputs": [
    {
     "data": {
      "text/html": [
       "<div>\n",
       "<style scoped>\n",
       "    .dataframe tbody tr th:only-of-type {\n",
       "        vertical-align: middle;\n",
       "    }\n",
       "\n",
       "    .dataframe tbody tr th {\n",
       "        vertical-align: top;\n",
       "    }\n",
       "\n",
       "    .dataframe thead th {\n",
       "        text-align: right;\n",
       "    }\n",
       "</style>\n",
       "<table border=\"1\" class=\"dataframe\">\n",
       "  <thead>\n",
       "    <tr style=\"text-align: right;\">\n",
       "      <th></th>\n",
       "      <th>danceability</th>\n",
       "      <th>energy</th>\n",
       "      <th>key</th>\n",
       "      <th>loudness</th>\n",
       "      <th>mode</th>\n",
       "      <th>speechiness</th>\n",
       "      <th>acousticness</th>\n",
       "      <th>instrumentalness</th>\n",
       "      <th>liveness</th>\n",
       "      <th>valence</th>\n",
       "      <th>tempo</th>\n",
       "      <th>type</th>\n",
       "      <th>id</th>\n",
       "      <th>uri</th>\n",
       "      <th>track_href</th>\n",
       "      <th>analysis_url</th>\n",
       "      <th>duration_ms</th>\n",
       "      <th>time_signature</th>\n",
       "    </tr>\n",
       "  </thead>\n",
       "  <tbody>\n",
       "    <tr>\n",
       "      <th>0</th>\n",
       "      <td>0.566</td>\n",
       "      <td>0.664</td>\n",
       "      <td>4</td>\n",
       "      <td>-5.303</td>\n",
       "      <td>0</td>\n",
       "      <td>0.0464</td>\n",
       "      <td>0.6340</td>\n",
       "      <td>0.000000</td>\n",
       "      <td>0.116</td>\n",
       "      <td>0.437</td>\n",
       "      <td>128.945</td>\n",
       "      <td>audio_features</td>\n",
       "      <td>7dS5EaCoMnN7DzlpT6aRn2</td>\n",
       "      <td>spotify:track:7dS5EaCoMnN7DzlpT6aRn2</td>\n",
       "      <td>https://api.spotify.com/v1/tracks/7dS5EaCoMnN7...</td>\n",
       "      <td>https://api.spotify.com/v1/audio-analysis/7dS5...</td>\n",
       "      <td>241688</td>\n",
       "      <td>4</td>\n",
       "    </tr>\n",
       "    <tr>\n",
       "      <th>1</th>\n",
       "      <td>0.768</td>\n",
       "      <td>0.820</td>\n",
       "      <td>7</td>\n",
       "      <td>-4.630</td>\n",
       "      <td>0</td>\n",
       "      <td>0.0474</td>\n",
       "      <td>0.1790</td>\n",
       "      <td>0.000000</td>\n",
       "      <td>0.689</td>\n",
       "      <td>0.625</td>\n",
       "      <td>129.965</td>\n",
       "      <td>audio_features</td>\n",
       "      <td>2V4bv1fNWfTcyRJKmej6Sj</td>\n",
       "      <td>spotify:track:2V4bv1fNWfTcyRJKmej6Sj</td>\n",
       "      <td>https://api.spotify.com/v1/tracks/2V4bv1fNWfTc...</td>\n",
       "      <td>https://api.spotify.com/v1/audio-analysis/2V4b...</td>\n",
       "      <td>213293</td>\n",
       "      <td>4</td>\n",
       "    </tr>\n",
       "    <tr>\n",
       "      <th>2</th>\n",
       "      <td>0.558</td>\n",
       "      <td>0.559</td>\n",
       "      <td>6</td>\n",
       "      <td>-9.222</td>\n",
       "      <td>1</td>\n",
       "      <td>0.0959</td>\n",
       "      <td>0.3710</td>\n",
       "      <td>0.000007</td>\n",
       "      <td>0.109</td>\n",
       "      <td>0.620</td>\n",
       "      <td>78.558</td>\n",
       "      <td>audio_features</td>\n",
       "      <td>7KA4W4McWYRpgf0fWsJZWB</td>\n",
       "      <td>spotify:track:7KA4W4McWYRpgf0fWsJZWB</td>\n",
       "      <td>https://api.spotify.com/v1/tracks/7KA4W4McWYRp...</td>\n",
       "      <td>https://api.spotify.com/v1/audio-analysis/7KA4...</td>\n",
       "      <td>180387</td>\n",
       "      <td>4</td>\n",
       "    </tr>\n",
       "    <tr>\n",
       "      <th>3</th>\n",
       "      <td>0.679</td>\n",
       "      <td>0.715</td>\n",
       "      <td>9</td>\n",
       "      <td>-6.383</td>\n",
       "      <td>1</td>\n",
       "      <td>0.0407</td>\n",
       "      <td>0.0755</td>\n",
       "      <td>0.000000</td>\n",
       "      <td>0.271</td>\n",
       "      <td>0.571</td>\n",
       "      <td>127.435</td>\n",
       "      <td>audio_features</td>\n",
       "      <td>3gbBpTdY8lnQwqxNCcf795</td>\n",
       "      <td>spotify:track:3gbBpTdY8lnQwqxNCcf795</td>\n",
       "      <td>https://api.spotify.com/v1/tracks/3gbBpTdY8lnQ...</td>\n",
       "      <td>https://api.spotify.com/v1/audio-analysis/3gbB...</td>\n",
       "      <td>214148</td>\n",
       "      <td>4</td>\n",
       "    </tr>\n",
       "    <tr>\n",
       "      <th>4</th>\n",
       "      <td>0.778</td>\n",
       "      <td>0.824</td>\n",
       "      <td>10</td>\n",
       "      <td>-5.892</td>\n",
       "      <td>0</td>\n",
       "      <td>0.0707</td>\n",
       "      <td>0.2840</td>\n",
       "      <td>0.000000</td>\n",
       "      <td>0.405</td>\n",
       "      <td>0.758</td>\n",
       "      <td>100.024</td>\n",
       "      <td>audio_features</td>\n",
       "      <td>3ZFTkvIE7kyPt6Nu3PEa7V</td>\n",
       "      <td>spotify:track:3ZFTkvIE7kyPt6Nu3PEa7V</td>\n",
       "      <td>https://api.spotify.com/v1/tracks/3ZFTkvIE7kyP...</td>\n",
       "      <td>https://api.spotify.com/v1/audio-analysis/3ZFT...</td>\n",
       "      <td>218093</td>\n",
       "      <td>4</td>\n",
       "    </tr>\n",
       "  </tbody>\n",
       "</table>\n",
       "</div>"
      ],
      "text/plain": [
       "   danceability  energy  key  loudness  mode  speechiness  acousticness  \\\n",
       "0         0.566   0.664    4    -5.303     0       0.0464        0.6340   \n",
       "1         0.768   0.820    7    -4.630     0       0.0474        0.1790   \n",
       "2         0.558   0.559    6    -9.222     1       0.0959        0.3710   \n",
       "3         0.679   0.715    9    -6.383     1       0.0407        0.0755   \n",
       "4         0.778   0.824   10    -5.892     0       0.0707        0.2840   \n",
       "\n",
       "   instrumentalness  liveness  valence    tempo            type  \\\n",
       "0          0.000000     0.116    0.437  128.945  audio_features   \n",
       "1          0.000000     0.689    0.625  129.965  audio_features   \n",
       "2          0.000007     0.109    0.620   78.558  audio_features   \n",
       "3          0.000000     0.271    0.571  127.435  audio_features   \n",
       "4          0.000000     0.405    0.758  100.024  audio_features   \n",
       "\n",
       "                       id                                   uri  \\\n",
       "0  7dS5EaCoMnN7DzlpT6aRn2  spotify:track:7dS5EaCoMnN7DzlpT6aRn2   \n",
       "1  2V4bv1fNWfTcyRJKmej6Sj  spotify:track:2V4bv1fNWfTcyRJKmej6Sj   \n",
       "2  7KA4W4McWYRpgf0fWsJZWB  spotify:track:7KA4W4McWYRpgf0fWsJZWB   \n",
       "3  3gbBpTdY8lnQwqxNCcf795  spotify:track:3gbBpTdY8lnQwqxNCcf795   \n",
       "4  3ZFTkvIE7kyPt6Nu3PEa7V  spotify:track:3ZFTkvIE7kyPt6Nu3PEa7V   \n",
       "\n",
       "                                          track_href  \\\n",
       "0  https://api.spotify.com/v1/tracks/7dS5EaCoMnN7...   \n",
       "1  https://api.spotify.com/v1/tracks/2V4bv1fNWfTc...   \n",
       "2  https://api.spotify.com/v1/tracks/7KA4W4McWYRp...   \n",
       "3  https://api.spotify.com/v1/tracks/3gbBpTdY8lnQ...   \n",
       "4  https://api.spotify.com/v1/tracks/3ZFTkvIE7kyP...   \n",
       "\n",
       "                                        analysis_url  duration_ms  \\\n",
       "0  https://api.spotify.com/v1/audio-analysis/7dS5...       241688   \n",
       "1  https://api.spotify.com/v1/audio-analysis/2V4b...       213293   \n",
       "2  https://api.spotify.com/v1/audio-analysis/7KA4...       180387   \n",
       "3  https://api.spotify.com/v1/audio-analysis/3gbB...       214148   \n",
       "4  https://api.spotify.com/v1/audio-analysis/3ZFT...       218093   \n",
       "\n",
       "   time_signature  \n",
       "0               4  \n",
       "1               4  \n",
       "2               4  \n",
       "3               4  \n",
       "4               4  "
      ]
     },
     "execution_count": 16,
     "metadata": {},
     "output_type": "execute_result"
    }
   ],
   "source": [
    "audio_df.head()"
   ]
  },
  {
   "cell_type": "markdown",
   "id": "a2e8e08b",
   "metadata": {},
   "source": [
    "## Concatenate both DataFrames"
   ]
  },
  {
   "cell_type": "code",
   "execution_count": 17,
   "id": "edcd2d31",
   "metadata": {},
   "outputs": [
    {
     "name": "stdout",
     "output_type": "stream",
     "text": [
      "(5290, 4) (5290, 18)\n"
     ]
    }
   ],
   "source": [
    "print(data.shape,audio_df.shape)"
   ]
  },
  {
   "cell_type": "code",
   "execution_count": 18,
   "id": "685af609",
   "metadata": {},
   "outputs": [],
   "source": [
    "thefinal = pd.concat([data, audio_df], axis=1, join='inner')"
   ]
  },
  {
   "cell_type": "code",
   "execution_count": 19,
   "id": "75caf526",
   "metadata": {},
   "outputs": [
    {
     "data": {
      "text/plain": [
       "(5290, 22)"
      ]
     },
     "execution_count": 19,
     "metadata": {},
     "output_type": "execute_result"
    }
   ],
   "source": [
    "thefinal.shape"
   ]
  },
  {
   "cell_type": "code",
   "execution_count": 20,
   "id": "c41f0847",
   "metadata": {},
   "outputs": [
    {
     "data": {
      "text/html": [
       "<div>\n",
       "<style scoped>\n",
       "    .dataframe tbody tr th:only-of-type {\n",
       "        vertical-align: middle;\n",
       "    }\n",
       "\n",
       "    .dataframe tbody tr th {\n",
       "        vertical-align: top;\n",
       "    }\n",
       "\n",
       "    .dataframe thead th {\n",
       "        text-align: right;\n",
       "    }\n",
       "</style>\n",
       "<table border=\"1\" class=\"dataframe\">\n",
       "  <thead>\n",
       "    <tr style=\"text-align: right;\">\n",
       "      <th></th>\n",
       "      <th>index</th>\n",
       "      <th>song_name</th>\n",
       "      <th>artist</th>\n",
       "      <th>audio features</th>\n",
       "      <th>danceability</th>\n",
       "      <th>energy</th>\n",
       "      <th>key</th>\n",
       "      <th>loudness</th>\n",
       "      <th>mode</th>\n",
       "      <th>speechiness</th>\n",
       "      <th>...</th>\n",
       "      <th>liveness</th>\n",
       "      <th>valence</th>\n",
       "      <th>tempo</th>\n",
       "      <th>type</th>\n",
       "      <th>id</th>\n",
       "      <th>uri</th>\n",
       "      <th>track_href</th>\n",
       "      <th>analysis_url</th>\n",
       "      <th>duration_ms</th>\n",
       "      <th>time_signature</th>\n",
       "    </tr>\n",
       "  </thead>\n",
       "  <tbody>\n",
       "    <tr>\n",
       "      <th>0</th>\n",
       "      <td>7dS5EaCoMnN7DzlpT6aRn2</td>\n",
       "      <td>Take Me To Church</td>\n",
       "      <td>Hozier</td>\n",
       "      <td>{'danceability': 0.566, 'energy': 0.664, 'key'...</td>\n",
       "      <td>0.566</td>\n",
       "      <td>0.664</td>\n",
       "      <td>4</td>\n",
       "      <td>-5.303</td>\n",
       "      <td>0</td>\n",
       "      <td>0.0464</td>\n",
       "      <td>...</td>\n",
       "      <td>0.116</td>\n",
       "      <td>0.437</td>\n",
       "      <td>128.945</td>\n",
       "      <td>audio_features</td>\n",
       "      <td>7dS5EaCoMnN7DzlpT6aRn2</td>\n",
       "      <td>spotify:track:7dS5EaCoMnN7DzlpT6aRn2</td>\n",
       "      <td>https://api.spotify.com/v1/tracks/7dS5EaCoMnN7...</td>\n",
       "      <td>https://api.spotify.com/v1/audio-analysis/7dS5...</td>\n",
       "      <td>241688</td>\n",
       "      <td>4</td>\n",
       "    </tr>\n",
       "    <tr>\n",
       "      <th>1</th>\n",
       "      <td>2V4bv1fNWfTcyRJKmej6Sj</td>\n",
       "      <td>Cooler Than Me - Single Mix</td>\n",
       "      <td>Mike Posner</td>\n",
       "      <td>{'danceability': 0.768, 'energy': 0.82, 'key':...</td>\n",
       "      <td>0.768</td>\n",
       "      <td>0.820</td>\n",
       "      <td>7</td>\n",
       "      <td>-4.630</td>\n",
       "      <td>0</td>\n",
       "      <td>0.0474</td>\n",
       "      <td>...</td>\n",
       "      <td>0.689</td>\n",
       "      <td>0.625</td>\n",
       "      <td>129.965</td>\n",
       "      <td>audio_features</td>\n",
       "      <td>2V4bv1fNWfTcyRJKmej6Sj</td>\n",
       "      <td>spotify:track:2V4bv1fNWfTcyRJKmej6Sj</td>\n",
       "      <td>https://api.spotify.com/v1/tracks/2V4bv1fNWfTc...</td>\n",
       "      <td>https://api.spotify.com/v1/audio-analysis/2V4b...</td>\n",
       "      <td>213293</td>\n",
       "      <td>4</td>\n",
       "    </tr>\n",
       "    <tr>\n",
       "      <th>2</th>\n",
       "      <td>7KA4W4McWYRpgf0fWsJZWB</td>\n",
       "      <td>See You Again (feat. Kali Uchis)</td>\n",
       "      <td>Tyler, The Creator</td>\n",
       "      <td>{'danceability': 0.558, 'energy': 0.559, 'key'...</td>\n",
       "      <td>0.558</td>\n",
       "      <td>0.559</td>\n",
       "      <td>6</td>\n",
       "      <td>-9.222</td>\n",
       "      <td>1</td>\n",
       "      <td>0.0959</td>\n",
       "      <td>...</td>\n",
       "      <td>0.109</td>\n",
       "      <td>0.620</td>\n",
       "      <td>78.558</td>\n",
       "      <td>audio_features</td>\n",
       "      <td>7KA4W4McWYRpgf0fWsJZWB</td>\n",
       "      <td>spotify:track:7KA4W4McWYRpgf0fWsJZWB</td>\n",
       "      <td>https://api.spotify.com/v1/tracks/7KA4W4McWYRp...</td>\n",
       "      <td>https://api.spotify.com/v1/audio-analysis/7KA4...</td>\n",
       "      <td>180387</td>\n",
       "      <td>4</td>\n",
       "    </tr>\n",
       "    <tr>\n",
       "      <th>3</th>\n",
       "      <td>3gbBpTdY8lnQwqxNCcf795</td>\n",
       "      <td>Pompeii</td>\n",
       "      <td>Bastille</td>\n",
       "      <td>{'danceability': 0.679, 'energy': 0.715, 'key'...</td>\n",
       "      <td>0.679</td>\n",
       "      <td>0.715</td>\n",
       "      <td>9</td>\n",
       "      <td>-6.383</td>\n",
       "      <td>1</td>\n",
       "      <td>0.0407</td>\n",
       "      <td>...</td>\n",
       "      <td>0.271</td>\n",
       "      <td>0.571</td>\n",
       "      <td>127.435</td>\n",
       "      <td>audio_features</td>\n",
       "      <td>3gbBpTdY8lnQwqxNCcf795</td>\n",
       "      <td>spotify:track:3gbBpTdY8lnQwqxNCcf795</td>\n",
       "      <td>https://api.spotify.com/v1/tracks/3gbBpTdY8lnQ...</td>\n",
       "      <td>https://api.spotify.com/v1/audio-analysis/3gbB...</td>\n",
       "      <td>214148</td>\n",
       "      <td>4</td>\n",
       "    </tr>\n",
       "    <tr>\n",
       "      <th>4</th>\n",
       "      <td>3ZFTkvIE7kyPt6Nu3PEa7V</td>\n",
       "      <td>Hips Don't Lie (feat. Wyclef Jean)</td>\n",
       "      <td>Shakira</td>\n",
       "      <td>{'danceability': 0.778, 'energy': 0.824, 'key'...</td>\n",
       "      <td>0.778</td>\n",
       "      <td>0.824</td>\n",
       "      <td>10</td>\n",
       "      <td>-5.892</td>\n",
       "      <td>0</td>\n",
       "      <td>0.0707</td>\n",
       "      <td>...</td>\n",
       "      <td>0.405</td>\n",
       "      <td>0.758</td>\n",
       "      <td>100.024</td>\n",
       "      <td>audio_features</td>\n",
       "      <td>3ZFTkvIE7kyPt6Nu3PEa7V</td>\n",
       "      <td>spotify:track:3ZFTkvIE7kyPt6Nu3PEa7V</td>\n",
       "      <td>https://api.spotify.com/v1/tracks/3ZFTkvIE7kyP...</td>\n",
       "      <td>https://api.spotify.com/v1/audio-analysis/3ZFT...</td>\n",
       "      <td>218093</td>\n",
       "      <td>4</td>\n",
       "    </tr>\n",
       "  </tbody>\n",
       "</table>\n",
       "<p>5 rows × 22 columns</p>\n",
       "</div>"
      ],
      "text/plain": [
       "                    index                           song_name  \\\n",
       "0  7dS5EaCoMnN7DzlpT6aRn2                   Take Me To Church   \n",
       "1  2V4bv1fNWfTcyRJKmej6Sj         Cooler Than Me - Single Mix   \n",
       "2  7KA4W4McWYRpgf0fWsJZWB    See You Again (feat. Kali Uchis)   \n",
       "3  3gbBpTdY8lnQwqxNCcf795                             Pompeii   \n",
       "4  3ZFTkvIE7kyPt6Nu3PEa7V  Hips Don't Lie (feat. Wyclef Jean)   \n",
       "\n",
       "               artist                                     audio features  \\\n",
       "0              Hozier  {'danceability': 0.566, 'energy': 0.664, 'key'...   \n",
       "1         Mike Posner  {'danceability': 0.768, 'energy': 0.82, 'key':...   \n",
       "2  Tyler, The Creator  {'danceability': 0.558, 'energy': 0.559, 'key'...   \n",
       "3            Bastille  {'danceability': 0.679, 'energy': 0.715, 'key'...   \n",
       "4             Shakira  {'danceability': 0.778, 'energy': 0.824, 'key'...   \n",
       "\n",
       "   danceability  energy  key  loudness  mode  speechiness  ...  liveness  \\\n",
       "0         0.566   0.664    4    -5.303     0       0.0464  ...     0.116   \n",
       "1         0.768   0.820    7    -4.630     0       0.0474  ...     0.689   \n",
       "2         0.558   0.559    6    -9.222     1       0.0959  ...     0.109   \n",
       "3         0.679   0.715    9    -6.383     1       0.0407  ...     0.271   \n",
       "4         0.778   0.824   10    -5.892     0       0.0707  ...     0.405   \n",
       "\n",
       "   valence    tempo            type                      id  \\\n",
       "0    0.437  128.945  audio_features  7dS5EaCoMnN7DzlpT6aRn2   \n",
       "1    0.625  129.965  audio_features  2V4bv1fNWfTcyRJKmej6Sj   \n",
       "2    0.620   78.558  audio_features  7KA4W4McWYRpgf0fWsJZWB   \n",
       "3    0.571  127.435  audio_features  3gbBpTdY8lnQwqxNCcf795   \n",
       "4    0.758  100.024  audio_features  3ZFTkvIE7kyPt6Nu3PEa7V   \n",
       "\n",
       "                                    uri  \\\n",
       "0  spotify:track:7dS5EaCoMnN7DzlpT6aRn2   \n",
       "1  spotify:track:2V4bv1fNWfTcyRJKmej6Sj   \n",
       "2  spotify:track:7KA4W4McWYRpgf0fWsJZWB   \n",
       "3  spotify:track:3gbBpTdY8lnQwqxNCcf795   \n",
       "4  spotify:track:3ZFTkvIE7kyPt6Nu3PEa7V   \n",
       "\n",
       "                                          track_href  \\\n",
       "0  https://api.spotify.com/v1/tracks/7dS5EaCoMnN7...   \n",
       "1  https://api.spotify.com/v1/tracks/2V4bv1fNWfTc...   \n",
       "2  https://api.spotify.com/v1/tracks/7KA4W4McWYRp...   \n",
       "3  https://api.spotify.com/v1/tracks/3gbBpTdY8lnQ...   \n",
       "4  https://api.spotify.com/v1/tracks/3ZFTkvIE7kyP...   \n",
       "\n",
       "                                        analysis_url duration_ms  \\\n",
       "0  https://api.spotify.com/v1/audio-analysis/7dS5...      241688   \n",
       "1  https://api.spotify.com/v1/audio-analysis/2V4b...      213293   \n",
       "2  https://api.spotify.com/v1/audio-analysis/7KA4...      180387   \n",
       "3  https://api.spotify.com/v1/audio-analysis/3gbB...      214148   \n",
       "4  https://api.spotify.com/v1/audio-analysis/3ZFT...      218093   \n",
       "\n",
       "  time_signature  \n",
       "0              4  \n",
       "1              4  \n",
       "2              4  \n",
       "3              4  \n",
       "4              4  \n",
       "\n",
       "[5 rows x 22 columns]"
      ]
     },
     "execution_count": 20,
     "metadata": {},
     "output_type": "execute_result"
    }
   ],
   "source": [
    "thefinal.head()"
   ]
  },
  {
   "cell_type": "code",
   "execution_count": null,
   "id": "dc1311fb",
   "metadata": {},
   "outputs": [],
   "source": [
    "thefinal.to_csv('playlist_csv.csv')"
   ]
  },
  {
   "cell_type": "code",
   "execution_count": 21,
   "id": "0f19ca3c",
   "metadata": {},
   "outputs": [],
   "source": [
    "longlist=list(set(thefinal['artist']))"
   ]
  },
  {
   "cell_type": "code",
   "execution_count": null,
   "id": "23982354",
   "metadata": {},
   "outputs": [],
   "source": [
    "artistlist_results = [sp.search(q=artist, limit=1700) for artist in longlist]"
   ]
  },
  {
   "cell_type": "code",
   "execution_count": 25,
   "id": "aca18784",
   "metadata": {},
   "outputs": [],
   "source": [
    "artisttest = longlist[:3]"
   ]
  },
  {
   "cell_type": "code",
   "execution_count": null,
   "id": "24bd64d3",
   "metadata": {},
   "outputs": [],
   "source": [
    "def get_songs_artist(arlist_list):\n",
    "    artistresults = {}\n",
    "    results = sp.searchuser_playlist_tracks(user, playlist_id)\n",
    "    for item in results['items']:\n",
    "        song_name = item['track']['name']\n",
    "        artist = item['track']['artists'][0]['name']\n",
    "        song_id = item['track']['uri'].split(':')[-1]\n",
    "        artistresults[song_id] = {'song_name':song_name, 'artist':artist}\n",
    "    while results['next']:\n",
    "        results = sp.next(results)\n",
    "        for item in results['items']:\n",
    "            song_name = item['track']['name']\n",
    "            artist = item['track']['artists'][0]['name']\n",
    "            song_id = item['track']['uri'].split(':')[-1]\n",
    "            artistresults[song_id] = {'song_name':song_name, 'artist':artist}\n",
    "    return artistresults"
   ]
  },
  {
   "cell_type": "code",
   "execution_count": null,
   "id": "b8dea930",
   "metadata": {},
   "outputs": [],
   "source": [
    "def get_songs_artist(user, playlist_id):\n",
    "    artist_songs = {}\n",
    "    sp.search(q=artist, limit=50) for artist in longlist]\n",
    "    for item in results['items']:\n",
    "        song_name = item['track']['name']\n",
    "        artist = item['track']['artists'][0]['name']\n",
    "        song_id = item['track']['uri'].split(':')[-1]\n",
    "        songs_artist[song_id] = {'song_name':song_name, 'artist':artist}\n",
    "    while results['next']:\n",
    "        results = sp.next(results)\n",
    "        for item in results['items']:\n",
    "            song_name = item['track']['name']\n",
    "            artist = item['track']['artists'][0]['name']\n",
    "            song_id = item['track']['uri'].split(':')[-1]\n",
    "            songs_artist[song_id] = {'song_name':song_name, 'artist':artist}\n",
    "    return songs_artist"
   ]
  },
  {
   "cell_type": "code",
   "execution_count": 31,
   "id": "5bc889da",
   "metadata": {},
   "outputs": [],
   "source": [
    "def artistfeed(artistlist):\n",
    "    for i in range(1,len(artistlist),50):\n",
    "        print('woo')"
   ]
  },
  {
   "cell_type": "code",
   "execution_count": 32,
   "id": "53008ca4",
   "metadata": {},
   "outputs": [
    {
     "name": "stdout",
     "output_type": "stream",
     "text": [
      "woo\n"
     ]
    }
   ],
   "source": [
    "artistfeed(artisttest)"
   ]
  },
  {
   "cell_type": "markdown",
   "id": "f2a1fb12",
   "metadata": {},
   "source": [
    "## 8/11 work"
   ]
  },
  {
   "cell_type": "code",
   "execution_count": null,
   "id": "e86c2e45",
   "metadata": {},
   "outputs": [],
   "source": [
    "#augment get_songs_artist function to search multiple pages for each artist in the long artistlist"
   ]
  },
  {
   "cell_type": "code",
   "execution_count": 202,
   "id": "d54ab8c7",
   "metadata": {},
   "outputs": [],
   "source": [
    "import pandas as pd\n",
    "import random\n",
    "import numpy as np\n",
    "from sklearn.cluster import KMeans\n",
    "from sklearn.preprocessing import StandardScaler"
   ]
  },
  {
   "cell_type": "code",
   "execution_count": 7,
   "id": "e421e0da",
   "metadata": {},
   "outputs": [],
   "source": [
    "music = pd.read_csv('C://Users//Owner//DA//Weekly Projects//skills_practice//APIs//playlist_csv.csv')"
   ]
  },
  {
   "cell_type": "code",
   "execution_count": 17,
   "id": "938f644c",
   "metadata": {
    "scrolled": true
   },
   "outputs": [
    {
     "data": {
      "text/html": [
       "<div>\n",
       "<style scoped>\n",
       "    .dataframe tbody tr th:only-of-type {\n",
       "        vertical-align: middle;\n",
       "    }\n",
       "\n",
       "    .dataframe tbody tr th {\n",
       "        vertical-align: top;\n",
       "    }\n",
       "\n",
       "    .dataframe thead th {\n",
       "        text-align: right;\n",
       "    }\n",
       "</style>\n",
       "<table border=\"1\" class=\"dataframe\">\n",
       "  <thead>\n",
       "    <tr style=\"text-align: right;\">\n",
       "      <th></th>\n",
       "      <th>Unnamed: 0</th>\n",
       "      <th>index</th>\n",
       "      <th>song_name</th>\n",
       "      <th>artist</th>\n",
       "      <th>danceability</th>\n",
       "      <th>energy</th>\n",
       "      <th>key</th>\n",
       "      <th>loudness</th>\n",
       "      <th>mode</th>\n",
       "      <th>speechiness</th>\n",
       "      <th>...</th>\n",
       "      <th>liveness</th>\n",
       "      <th>valence</th>\n",
       "      <th>tempo</th>\n",
       "      <th>type</th>\n",
       "      <th>id</th>\n",
       "      <th>uri</th>\n",
       "      <th>track_href</th>\n",
       "      <th>analysis_url</th>\n",
       "      <th>duration_ms</th>\n",
       "      <th>time_signature</th>\n",
       "    </tr>\n",
       "  </thead>\n",
       "  <tbody>\n",
       "    <tr>\n",
       "      <th>0</th>\n",
       "      <td>0</td>\n",
       "      <td>7dS5EaCoMnN7DzlpT6aRn2</td>\n",
       "      <td>Take Me To Church</td>\n",
       "      <td>Hozier</td>\n",
       "      <td>0.566</td>\n",
       "      <td>0.664</td>\n",
       "      <td>4</td>\n",
       "      <td>-5.303</td>\n",
       "      <td>0</td>\n",
       "      <td>0.0464</td>\n",
       "      <td>...</td>\n",
       "      <td>0.116</td>\n",
       "      <td>0.437</td>\n",
       "      <td>128.945</td>\n",
       "      <td>audio_features</td>\n",
       "      <td>7dS5EaCoMnN7DzlpT6aRn2</td>\n",
       "      <td>spotify:track:7dS5EaCoMnN7DzlpT6aRn2</td>\n",
       "      <td>https://api.spotify.com/v1/tracks/7dS5EaCoMnN7...</td>\n",
       "      <td>https://api.spotify.com/v1/audio-analysis/7dS5...</td>\n",
       "      <td>241688</td>\n",
       "      <td>4</td>\n",
       "    </tr>\n",
       "    <tr>\n",
       "      <th>1</th>\n",
       "      <td>1</td>\n",
       "      <td>2V4bv1fNWfTcyRJKmej6Sj</td>\n",
       "      <td>Cooler Than Me - Single Mix</td>\n",
       "      <td>Mike Posner</td>\n",
       "      <td>0.768</td>\n",
       "      <td>0.820</td>\n",
       "      <td>7</td>\n",
       "      <td>-4.630</td>\n",
       "      <td>0</td>\n",
       "      <td>0.0474</td>\n",
       "      <td>...</td>\n",
       "      <td>0.689</td>\n",
       "      <td>0.625</td>\n",
       "      <td>129.965</td>\n",
       "      <td>audio_features</td>\n",
       "      <td>2V4bv1fNWfTcyRJKmej6Sj</td>\n",
       "      <td>spotify:track:2V4bv1fNWfTcyRJKmej6Sj</td>\n",
       "      <td>https://api.spotify.com/v1/tracks/2V4bv1fNWfTc...</td>\n",
       "      <td>https://api.spotify.com/v1/audio-analysis/2V4b...</td>\n",
       "      <td>213293</td>\n",
       "      <td>4</td>\n",
       "    </tr>\n",
       "    <tr>\n",
       "      <th>2</th>\n",
       "      <td>2</td>\n",
       "      <td>7KA4W4McWYRpgf0fWsJZWB</td>\n",
       "      <td>See You Again (feat. Kali Uchis)</td>\n",
       "      <td>Tyler, The Creator</td>\n",
       "      <td>0.558</td>\n",
       "      <td>0.559</td>\n",
       "      <td>6</td>\n",
       "      <td>-9.222</td>\n",
       "      <td>1</td>\n",
       "      <td>0.0959</td>\n",
       "      <td>...</td>\n",
       "      <td>0.109</td>\n",
       "      <td>0.620</td>\n",
       "      <td>78.558</td>\n",
       "      <td>audio_features</td>\n",
       "      <td>7KA4W4McWYRpgf0fWsJZWB</td>\n",
       "      <td>spotify:track:7KA4W4McWYRpgf0fWsJZWB</td>\n",
       "      <td>https://api.spotify.com/v1/tracks/7KA4W4McWYRp...</td>\n",
       "      <td>https://api.spotify.com/v1/audio-analysis/7KA4...</td>\n",
       "      <td>180387</td>\n",
       "      <td>4</td>\n",
       "    </tr>\n",
       "  </tbody>\n",
       "</table>\n",
       "<p>3 rows × 22 columns</p>\n",
       "</div>"
      ],
      "text/plain": [
       "   Unnamed: 0                   index                         song_name  \\\n",
       "0           0  7dS5EaCoMnN7DzlpT6aRn2                 Take Me To Church   \n",
       "1           1  2V4bv1fNWfTcyRJKmej6Sj       Cooler Than Me - Single Mix   \n",
       "2           2  7KA4W4McWYRpgf0fWsJZWB  See You Again (feat. Kali Uchis)   \n",
       "\n",
       "               artist  danceability  energy  key  loudness  mode  speechiness  \\\n",
       "0              Hozier         0.566   0.664    4    -5.303     0       0.0464   \n",
       "1         Mike Posner         0.768   0.820    7    -4.630     0       0.0474   \n",
       "2  Tyler, The Creator         0.558   0.559    6    -9.222     1       0.0959   \n",
       "\n",
       "   ...  liveness  valence    tempo            type                      id  \\\n",
       "0  ...     0.116    0.437  128.945  audio_features  7dS5EaCoMnN7DzlpT6aRn2   \n",
       "1  ...     0.689    0.625  129.965  audio_features  2V4bv1fNWfTcyRJKmej6Sj   \n",
       "2  ...     0.109    0.620   78.558  audio_features  7KA4W4McWYRpgf0fWsJZWB   \n",
       "\n",
       "                                    uri  \\\n",
       "0  spotify:track:7dS5EaCoMnN7DzlpT6aRn2   \n",
       "1  spotify:track:2V4bv1fNWfTcyRJKmej6Sj   \n",
       "2  spotify:track:7KA4W4McWYRpgf0fWsJZWB   \n",
       "\n",
       "                                          track_href  \\\n",
       "0  https://api.spotify.com/v1/tracks/7dS5EaCoMnN7...   \n",
       "1  https://api.spotify.com/v1/tracks/2V4bv1fNWfTc...   \n",
       "2  https://api.spotify.com/v1/tracks/7KA4W4McWYRp...   \n",
       "\n",
       "                                        analysis_url duration_ms  \\\n",
       "0  https://api.spotify.com/v1/audio-analysis/7dS5...      241688   \n",
       "1  https://api.spotify.com/v1/audio-analysis/2V4b...      213293   \n",
       "2  https://api.spotify.com/v1/audio-analysis/7KA4...      180387   \n",
       "\n",
       "  time_signature  \n",
       "0              4  \n",
       "1              4  \n",
       "2              4  \n",
       "\n",
       "[3 rows x 22 columns]"
      ]
     },
     "execution_count": 17,
     "metadata": {},
     "output_type": "execute_result"
    }
   ],
   "source": [
    "music.head(3)"
   ]
  },
  {
   "cell_type": "code",
   "execution_count": 18,
   "id": "4a4b3550",
   "metadata": {},
   "outputs": [
    {
     "data": {
      "text/plain": [
       "Index(['Unnamed: 0', 'index', 'song_name', 'artist', 'danceability', 'energy',\n",
       "       'key', 'loudness', 'mode', 'speechiness', 'acousticness',\n",
       "       'instrumentalness', 'liveness', 'valence', 'tempo', 'type', 'id', 'uri',\n",
       "       'track_href', 'analysis_url', 'duration_ms', 'time_signature'],\n",
       "      dtype='object')"
      ]
     },
     "execution_count": 18,
     "metadata": {},
     "output_type": "execute_result"
    }
   ],
   "source": [
    "music.columns"
   ]
  },
  {
   "cell_type": "code",
   "execution_count": 8,
   "id": "a7db5ca1",
   "metadata": {},
   "outputs": [],
   "source": [
    "stats = music.drop(['Unnamed: 0','index','song_name','artist','analysis_url','track_href','uri','id','type'],axis=1)"
   ]
  },
  {
   "cell_type": "code",
   "execution_count": 9,
   "id": "8d9d9463",
   "metadata": {},
   "outputs": [
    {
     "data": {
      "text/plain": [
       "Index(['danceability', 'energy', 'key', 'loudness', 'mode', 'speechiness',\n",
       "       'acousticness', 'instrumentalness', 'liveness', 'valence', 'tempo',\n",
       "       'duration_ms', 'time_signature'],\n",
       "      dtype='object')"
      ]
     },
     "execution_count": 9,
     "metadata": {},
     "output_type": "execute_result"
    }
   ],
   "source": [
    "stats.columns"
   ]
  },
  {
   "cell_type": "code",
   "execution_count": 5,
   "id": "8e33b3b2",
   "metadata": {
    "scrolled": true
   },
   "outputs": [
    {
     "data": {
      "text/html": [
       "<div>\n",
       "<style scoped>\n",
       "    .dataframe tbody tr th:only-of-type {\n",
       "        vertical-align: middle;\n",
       "    }\n",
       "\n",
       "    .dataframe tbody tr th {\n",
       "        vertical-align: top;\n",
       "    }\n",
       "\n",
       "    .dataframe thead th {\n",
       "        text-align: right;\n",
       "    }\n",
       "</style>\n",
       "<table border=\"1\" class=\"dataframe\">\n",
       "  <thead>\n",
       "    <tr style=\"text-align: right;\">\n",
       "      <th></th>\n",
       "      <th>danceability</th>\n",
       "      <th>energy</th>\n",
       "      <th>key</th>\n",
       "      <th>loudness</th>\n",
       "      <th>mode</th>\n",
       "      <th>speechiness</th>\n",
       "      <th>acousticness</th>\n",
       "      <th>instrumentalness</th>\n",
       "      <th>liveness</th>\n",
       "      <th>valence</th>\n",
       "      <th>tempo</th>\n",
       "      <th>duration_ms</th>\n",
       "      <th>time_signature</th>\n",
       "    </tr>\n",
       "  </thead>\n",
       "  <tbody>\n",
       "    <tr>\n",
       "      <th>0</th>\n",
       "      <td>0.566</td>\n",
       "      <td>0.664</td>\n",
       "      <td>4</td>\n",
       "      <td>-5.303</td>\n",
       "      <td>0</td>\n",
       "      <td>0.0464</td>\n",
       "      <td>0.6340</td>\n",
       "      <td>0.000000</td>\n",
       "      <td>0.116</td>\n",
       "      <td>0.437</td>\n",
       "      <td>128.945</td>\n",
       "      <td>241688</td>\n",
       "      <td>4</td>\n",
       "    </tr>\n",
       "    <tr>\n",
       "      <th>1</th>\n",
       "      <td>0.768</td>\n",
       "      <td>0.820</td>\n",
       "      <td>7</td>\n",
       "      <td>-4.630</td>\n",
       "      <td>0</td>\n",
       "      <td>0.0474</td>\n",
       "      <td>0.1790</td>\n",
       "      <td>0.000000</td>\n",
       "      <td>0.689</td>\n",
       "      <td>0.625</td>\n",
       "      <td>129.965</td>\n",
       "      <td>213293</td>\n",
       "      <td>4</td>\n",
       "    </tr>\n",
       "    <tr>\n",
       "      <th>2</th>\n",
       "      <td>0.558</td>\n",
       "      <td>0.559</td>\n",
       "      <td>6</td>\n",
       "      <td>-9.222</td>\n",
       "      <td>1</td>\n",
       "      <td>0.0959</td>\n",
       "      <td>0.3710</td>\n",
       "      <td>0.000007</td>\n",
       "      <td>0.109</td>\n",
       "      <td>0.620</td>\n",
       "      <td>78.558</td>\n",
       "      <td>180387</td>\n",
       "      <td>4</td>\n",
       "    </tr>\n",
       "    <tr>\n",
       "      <th>3</th>\n",
       "      <td>0.679</td>\n",
       "      <td>0.715</td>\n",
       "      <td>9</td>\n",
       "      <td>-6.383</td>\n",
       "      <td>1</td>\n",
       "      <td>0.0407</td>\n",
       "      <td>0.0755</td>\n",
       "      <td>0.000000</td>\n",
       "      <td>0.271</td>\n",
       "      <td>0.571</td>\n",
       "      <td>127.435</td>\n",
       "      <td>214148</td>\n",
       "      <td>4</td>\n",
       "    </tr>\n",
       "    <tr>\n",
       "      <th>4</th>\n",
       "      <td>0.778</td>\n",
       "      <td>0.824</td>\n",
       "      <td>10</td>\n",
       "      <td>-5.892</td>\n",
       "      <td>0</td>\n",
       "      <td>0.0707</td>\n",
       "      <td>0.2840</td>\n",
       "      <td>0.000000</td>\n",
       "      <td>0.405</td>\n",
       "      <td>0.758</td>\n",
       "      <td>100.024</td>\n",
       "      <td>218093</td>\n",
       "      <td>4</td>\n",
       "    </tr>\n",
       "  </tbody>\n",
       "</table>\n",
       "</div>"
      ],
      "text/plain": [
       "   danceability  energy  key  loudness  mode  speechiness  acousticness  \\\n",
       "0         0.566   0.664    4    -5.303     0       0.0464        0.6340   \n",
       "1         0.768   0.820    7    -4.630     0       0.0474        0.1790   \n",
       "2         0.558   0.559    6    -9.222     1       0.0959        0.3710   \n",
       "3         0.679   0.715    9    -6.383     1       0.0407        0.0755   \n",
       "4         0.778   0.824   10    -5.892     0       0.0707        0.2840   \n",
       "\n",
       "   instrumentalness  liveness  valence    tempo  duration_ms  time_signature  \n",
       "0          0.000000     0.116    0.437  128.945       241688               4  \n",
       "1          0.000000     0.689    0.625  129.965       213293               4  \n",
       "2          0.000007     0.109    0.620   78.558       180387               4  \n",
       "3          0.000000     0.271    0.571  127.435       214148               4  \n",
       "4          0.000000     0.405    0.758  100.024       218093               4  "
      ]
     },
     "execution_count": 5,
     "metadata": {},
     "output_type": "execute_result"
    }
   ],
   "source": [
    "stats.head()"
   ]
  },
  {
   "cell_type": "code",
   "execution_count": 10,
   "id": "689a80ca",
   "metadata": {},
   "outputs": [],
   "source": [
    "X_scaled = StandardScaler().fit_transform(stats)"
   ]
  },
  {
   "cell_type": "code",
   "execution_count": 25,
   "id": "038fe35f",
   "metadata": {},
   "outputs": [
    {
     "data": {
      "text/html": [
       "<div>\n",
       "<style scoped>\n",
       "    .dataframe tbody tr th:only-of-type {\n",
       "        vertical-align: middle;\n",
       "    }\n",
       "\n",
       "    .dataframe tbody tr th {\n",
       "        vertical-align: top;\n",
       "    }\n",
       "\n",
       "    .dataframe thead th {\n",
       "        text-align: right;\n",
       "    }\n",
       "</style>\n",
       "<table border=\"1\" class=\"dataframe\">\n",
       "  <thead>\n",
       "    <tr style=\"text-align: right;\">\n",
       "      <th></th>\n",
       "      <th>0</th>\n",
       "      <th>1</th>\n",
       "      <th>2</th>\n",
       "      <th>3</th>\n",
       "      <th>4</th>\n",
       "      <th>5</th>\n",
       "      <th>6</th>\n",
       "      <th>7</th>\n",
       "      <th>8</th>\n",
       "      <th>9</th>\n",
       "      <th>10</th>\n",
       "      <th>11</th>\n",
       "      <th>12</th>\n",
       "    </tr>\n",
       "  </thead>\n",
       "  <tbody>\n",
       "    <tr>\n",
       "      <th>0</th>\n",
       "      <td>-0.718970</td>\n",
       "      <td>-0.206232</td>\n",
       "      <td>-0.344921</td>\n",
       "      <td>0.310893</td>\n",
       "      <td>-1.103222</td>\n",
       "      <td>-0.577331</td>\n",
       "      <td>2.381205</td>\n",
       "      <td>-0.209825</td>\n",
       "      <td>-0.503857</td>\n",
       "      <td>-0.346600</td>\n",
       "      <td>0.254782</td>\n",
       "      <td>0.663107</td>\n",
       "      <td>0.086705</td>\n",
       "    </tr>\n",
       "    <tr>\n",
       "      <th>1</th>\n",
       "      <td>0.767039</td>\n",
       "      <td>0.726513</td>\n",
       "      <td>0.480704</td>\n",
       "      <td>0.597829</td>\n",
       "      <td>-1.103222</td>\n",
       "      <td>-0.567001</td>\n",
       "      <td>0.120022</td>\n",
       "      <td>-0.209825</td>\n",
       "      <td>3.543302</td>\n",
       "      <td>0.477943</td>\n",
       "      <td>0.293158</td>\n",
       "      <td>0.002246</td>\n",
       "      <td>0.086705</td>\n",
       "    </tr>\n",
       "    <tr>\n",
       "      <th>2</th>\n",
       "      <td>-0.777822</td>\n",
       "      <td>-0.834041</td>\n",
       "      <td>0.205496</td>\n",
       "      <td>-1.359986</td>\n",
       "      <td>0.906436</td>\n",
       "      <td>-0.065976</td>\n",
       "      <td>1.074191</td>\n",
       "      <td>-0.209765</td>\n",
       "      <td>-0.553299</td>\n",
       "      <td>0.456014</td>\n",
       "      <td>-1.640935</td>\n",
       "      <td>-0.763604</td>\n",
       "      <td>0.086705</td>\n",
       "    </tr>\n",
       "    <tr>\n",
       "      <th>3</th>\n",
       "      <td>0.112312</td>\n",
       "      <td>0.098704</td>\n",
       "      <td>1.031121</td>\n",
       "      <td>-0.149569</td>\n",
       "      <td>0.906436</td>\n",
       "      <td>-0.636214</td>\n",
       "      <td>-0.394335</td>\n",
       "      <td>-0.209825</td>\n",
       "      <td>0.590924</td>\n",
       "      <td>0.241106</td>\n",
       "      <td>0.197972</td>\n",
       "      <td>0.022145</td>\n",
       "      <td>0.086705</td>\n",
       "    </tr>\n",
       "    <tr>\n",
       "      <th>4</th>\n",
       "      <td>0.840604</td>\n",
       "      <td>0.750430</td>\n",
       "      <td>1.306329</td>\n",
       "      <td>0.059771</td>\n",
       "      <td>-1.103222</td>\n",
       "      <td>-0.326302</td>\n",
       "      <td>0.641833</td>\n",
       "      <td>-0.209825</td>\n",
       "      <td>1.537380</td>\n",
       "      <td>1.061264</td>\n",
       "      <td>-0.833316</td>\n",
       "      <td>0.113960</td>\n",
       "      <td>0.086705</td>\n",
       "    </tr>\n",
       "  </tbody>\n",
       "</table>\n",
       "</div>"
      ],
      "text/plain": [
       "         0         1         2         3         4         5         6   \\\n",
       "0 -0.718970 -0.206232 -0.344921  0.310893 -1.103222 -0.577331  2.381205   \n",
       "1  0.767039  0.726513  0.480704  0.597829 -1.103222 -0.567001  0.120022   \n",
       "2 -0.777822 -0.834041  0.205496 -1.359986  0.906436 -0.065976  1.074191   \n",
       "3  0.112312  0.098704  1.031121 -0.149569  0.906436 -0.636214 -0.394335   \n",
       "4  0.840604  0.750430  1.306329  0.059771 -1.103222 -0.326302  0.641833   \n",
       "\n",
       "         7         8         9         10        11        12  \n",
       "0 -0.209825 -0.503857 -0.346600  0.254782  0.663107  0.086705  \n",
       "1 -0.209825  3.543302  0.477943  0.293158  0.002246  0.086705  \n",
       "2 -0.209765 -0.553299  0.456014 -1.640935 -0.763604  0.086705  \n",
       "3 -0.209825  0.590924  0.241106  0.197972  0.022145  0.086705  \n",
       "4 -0.209825  1.537380  1.061264 -0.833316  0.113960  0.086705  "
      ]
     },
     "execution_count": 25,
     "metadata": {},
     "output_type": "execute_result"
    }
   ],
   "source": [
    "pd.DataFrame(X_scaled).head()"
   ]
  },
  {
   "cell_type": "code",
   "execution_count": 36,
   "id": "a3a9aac5",
   "metadata": {},
   "outputs": [
    {
     "data": {
      "text/plain": [
       "Text(0.5, 1.0, 'Elbow Method showing the optimal k')"
      ]
     },
     "execution_count": 36,
     "metadata": {},
     "output_type": "execute_result"
    },
    {
     "data": {
      "image/png": "[encoded data removed]",
      "text/plain": [
       "<Figure size 1152x576 with 1 Axes>"
      ]
     },
     "metadata": {
      "needs_background": "light"
     },
     "output_type": "display_data"
    }
   ],
   "source": [
    "import numpy as np\n",
    "K = range(2, 20)\n",
    "inertia = []\n",
    "\n",
    "for k in K:\n",
    "    kmeans = KMeans(n_clusters=k,\n",
    "                    random_state=1234)\n",
    "    kmeans.fit(X_scaled)\n",
    "    inertia.append(kmeans.inertia_)\n",
    "\n",
    "import matplotlib.pyplot as plt\n",
    "%matplotlib inline\n",
    "\n",
    "plt.figure(figsize=(16,8))\n",
    "plt.plot(K, inertia, marker = '*')\n",
    "plt.xlabel('k')\n",
    "plt.ylabel('inertia')\n",
    "plt.xticks(np.arange(min(K), max(K)+1, 1.0))\n",
    "plt.title('Elbow Method showing the optimal k')"
   ]
  },
  {
   "cell_type": "code",
   "execution_count": null,
   "id": "2c523411",
   "metadata": {},
   "outputs": [],
   "source": []
  },
  {
   "cell_type": "code",
   "execution_count": 27,
   "id": "01925f32",
   "metadata": {},
   "outputs": [
    {
     "data": {
      "text/plain": [
       "Text(0.5, 1.0, 'Silhouette Method showing the optimal k')"
      ]
     },
     "execution_count": 27,
     "metadata": {},
     "output_type": "execute_result"
    },
    {
     "data": {
      "image/png": "[encoded data removed]",
      "text/plain": [
       "<Figure size 1152x576 with 1 Axes>"
      ]
     },
     "metadata": {
      "needs_background": "light"
     },
     "output_type": "display_data"
    }
   ],
   "source": [
    "from sklearn.metrics import silhouette_score\n",
    "K = range(2, 20)\n",
    "silhouette = []\n",
    "\n",
    "for k in K:\n",
    "    kmeans = KMeans(n_clusters=k,\n",
    "                    random_state=1234)\n",
    "    kmeans.fit(X_scaled)\n",
    "    silhouette.append(silhouette_score(X_scaled, kmeans.predict(X_scaled)))\n",
    "\n",
    "\n",
    "plt.figure(figsize=(16,8))\n",
    "plt.plot(K, silhouette, 'bx-')\n",
    "plt.xlabel('k')\n",
    "plt.ylabel('silhouette score')\n",
    "plt.xticks(np.arange(min(K), max(K)+1, 1.0))\n",
    "plt.title('Silhouette Method showing the optimal k')"
   ]
  },
  {
   "cell_type": "code",
   "execution_count": 7,
   "id": "9bc2cda2",
   "metadata": {},
   "outputs": [],
   "source": [
    "k=6\n",
    "kmeans = KMeans(n_clusters=k, random_state=1234)\n",
    "kmeans.fit(X_scaled)\n",
    "clusters=kmeans.predict(X_scaled)"
   ]
  },
  {
   "cell_type": "code",
   "execution_count": 188,
   "id": "90fe74cb",
   "metadata": {},
   "outputs": [],
   "source": [
    "stats['clusters']=clusters\n",
    "music['clusters']=clusters"
   ]
  },
  {
   "cell_type": "code",
   "execution_count": 21,
   "id": "91b3e9e9",
   "metadata": {},
   "outputs": [
    {
     "data": {
      "text/plain": [
       "(2    1792\n",
       " 0    1595\n",
       " 5     646\n",
       " 1     559\n",
       " 4     549\n",
       " 3     149\n",
       " Name: clusters, dtype: int64,\n",
       " 2    1792\n",
       " 0    1595\n",
       " 5     646\n",
       " 1     559\n",
       " 4     549\n",
       " 3     149\n",
       " Name: clusters, dtype: int64)"
      ]
     },
     "execution_count": 21,
     "metadata": {},
     "output_type": "execute_result"
    }
   ],
   "source": [
    "stats['clusters'].value_counts(),music['clusters'].value_counts()"
   ]
  },
  {
   "cell_type": "code",
   "execution_count": 10,
   "id": "ef8db40e",
   "metadata": {},
   "outputs": [
    {
     "data": {
      "text/plain": [
       "danceability             0.672848\n",
       "energy                   0.742402\n",
       "key                      5.934169\n",
       "loudness                -5.414409\n",
       "mode                     0.000000\n",
       "speechiness              0.076028\n",
       "acousticness             0.101281\n",
       "instrumentalness         0.004842\n",
       "liveness                 0.157485\n",
       "valence                  0.557094\n",
       "tempo                  121.311048\n",
       "duration_ms         216366.015674\n",
       "time_signature           3.994984\n",
       "dtype: float64"
      ]
     },
     "execution_count": 10,
     "metadata": {},
     "output_type": "execute_result"
    }
   ],
   "source": [
    "c0=stats[stats['clusters']==0]\n",
    "c0=c0.drop('clusters',axis=1)\n",
    "c0avg=np.mean(c0)\n",
    "c0avg"
   ]
  },
  {
   "cell_type": "code",
   "execution_count": 11,
   "id": "e631e495",
   "metadata": {},
   "outputs": [],
   "source": [
    "c0=stats[stats['clusters']==0]\n",
    "c0=c0.drop('clusters',axis=1)\n",
    "c0avg=np.mean(c0)\n",
    "c1=stats[stats['clusters']==1]\n",
    "c1=c1.drop('clusters',axis=1)\n",
    "c1avg=np.mean(c1)\n",
    "c2=stats[stats['clusters']==2]\n",
    "c2=c2.drop('clusters',axis=1)\n",
    "c2avg=np.mean(c2)\n",
    "c3=stats[stats['clusters']==3]\n",
    "c3=c3.drop('clusters',axis=1)\n",
    "c3avg=np.mean(c3)\n",
    "c4=stats[stats['clusters']==4]\n",
    "c4=c4.drop('clusters',axis=1)\n",
    "c4avg=np.mean(c4)\n",
    "c5=stats[stats['clusters']==5]\n",
    "c5=c5.drop('clusters',axis=1)\n",
    "c5avg=np.mean(c5)"
   ]
  },
  {
   "cell_type": "markdown",
   "id": "c3551e9c",
   "metadata": {},
   "source": [
    "## 8/12-13 work"
   ]
  },
  {
   "cell_type": "code",
   "execution_count": 66,
   "id": "2edcf28c",
   "metadata": {},
   "outputs": [
    {
     "name": "stdout",
     "output_type": "stream",
     "text": [
      "Enter a song you like:believe\n"
     ]
    },
    {
     "data": {
      "text/plain": [
       "{'danceability': 0.776,\n",
       " 'energy': 0.78,\n",
       " 'key': 10,\n",
       " 'loudness': -4.374,\n",
       " 'mode': 0,\n",
       " 'speechiness': 0.128,\n",
       " 'acousticness': 0.0622,\n",
       " 'instrumentalness': 0,\n",
       " 'liveness': 0.081,\n",
       " 'valence': 0.666,\n",
       " 'tempo': 124.949,\n",
       " 'type': 'audio_features',\n",
       " 'id': '0pqnGHJpmpxLKifKRmU6WP',\n",
       " 'uri': 'spotify:track:0pqnGHJpmpxLKifKRmU6WP',\n",
       " 'track_href': 'https://api.spotify.com/v1/tracks/0pqnGHJpmpxLKifKRmU6WP',\n",
       " 'analysis_url': 'https://api.spotify.com/v1/audio-analysis/0pqnGHJpmpxLKifKRmU6WP',\n",
       " 'duration_ms': 204347,\n",
       " 'time_signature': 4}"
      ]
     },
     "execution_count": 66,
     "metadata": {},
     "output_type": "execute_result"
    }
   ],
   "source": [
    "new_song = input('Enter a song you like:')\n",
    "songdeets=sp.search(new_song, limit=10, offset=0, type='track', market=None)\n",
    "song_id=sp.audio_features(songdeets['tracks']['items'][0]['id'])\n",
    "song_id=song_id[0]\n",
    "song_id"
   ]
  },
  {
   "cell_type": "markdown",
   "id": "a0e5571b",
   "metadata": {},
   "source": [
    "## Using a user-given input, return a song in my database from the cluster most like the given song"
   ]
  },
  {
   "cell_type": "code",
   "execution_count": 230,
   "id": "4d4d5813",
   "metadata": {},
   "outputs": [],
   "source": [
    "def boss_wants_music(user_input):\n",
    "    songs_artist = {}\n",
    "    #run input in spotify search to retrieve json file\n",
    "    songdeets=sp.search(user_input, limit=10, offset=0, type='track', market=None)\n",
    "    #search first result of json file  for the song_id/uri and artist name\n",
    "    song_id=songdeets['tracks']['items'][0]['id']\n",
    "    new_song_artist=songdeets['tracks']['items'][0]['artists'][0]['name']\n",
    "    # apply song_id/uri into spotify API to retrieve audio features\n",
    "    new_song_audio_features=sp.audio_features(song_id)\n",
    "    songs_artist[song_id] = {'song_name':new_song, 'artist':new_song_artist, 'audio features': new_song_audio_features[0]}\n",
    "    #create a Dataframe of the new song's features to show only the numerical values the larger\n",
    "    #song database used in the kmeans clustering\n",
    "    new_song_df=pd.DataFrame(songs_artist).T.reset_index()\n",
    "    new_song_audio_features=pd.json_normalize(new_song_df['audio features'])\n",
    "    numdf=new_song_audio_features.select_dtypes(np.number)\n",
    "    #apply the premade kmeans definition to determine the closest cluster from the database to the new song\n",
    "    song_scaled = StandardScaler().fit_transform(numdf)\n",
    "    clusters=kmeans.predict(song_scaled)[0]\n",
    "    #filter database by this cluster number and return a random song from this cluster\n",
    "    song_pool=music[music['clusters']==clusters]       \n",
    "    song_pool=pd.DataFrame(song_pool).reset_index(drop=True)\n",
    "    print('Now playing: ', random.choice(song_pool['song_name']))"
   ]
  },
  {
   "cell_type": "code",
   "execution_count": 231,
   "id": "3b67475c",
   "metadata": {},
   "outputs": [
    {
     "name": "stdout",
     "output_type": "stream",
     "text": [
      "Enter a song you like:threshold\n",
      "Now playing:  Supalonely\n"
     ]
    }
   ],
   "source": [
    "new_song = input('Enter a song you like:')\n",
    "#new_song_found = \n",
    "boss_wants_music(new_song)"
   ]
  },
  {
   "cell_type": "markdown",
   "id": "af837789",
   "metadata": {},
   "source": [
    "## 8/16 DBScan instead of kmeans"
   ]
  },
  {
   "cell_type": "code",
   "execution_count": 1,
   "id": "b4e28bab",
   "metadata": {},
   "outputs": [],
   "source": [
    "import matplotlib.pyplot as plt\n",
    "from sklearn.datasets import make_moons\n",
    "%matplotlib inline"
   ]
  },
  {
   "cell_type": "code",
   "execution_count": 2,
   "id": "153a0cc4",
   "metadata": {},
   "outputs": [
    {
     "data": {
      "text/plain": [
       "<matplotlib.collections.PathCollection at 0x22621bed700>"
      ]
     },
     "execution_count": 2,
     "metadata": {},
     "output_type": "execute_result"
    },
    {
     "data": {
      "image/png": "[encoded data removed]",
      "text/plain": [
       "<Figure size 432x288 with 1 Axes>"
      ]
     },
     "metadata": {
      "needs_background": "light"
     },
     "output_type": "display_data"
    }
   ],
   "source": [
    "\"\"\"moons = make_moons(n_samples=100, shuffle=True, noise=0.05)\n",
    "plt.scatter(moons[0][:,0], moons[0][:,1])\"\"\""
   ]
  },
  {
   "cell_type": "code",
   "execution_count": 3,
   "id": "80c8e0bc",
   "metadata": {},
   "outputs": [
    {
     "data": {
      "text/plain": [
       "array([0, 1, 0, 0, 1, 1, 1, 0, 1, 0, 1, 0, 1, 1, 0, 1, 1, 1, 0, 0, 0, 0,\n",
       "       0, 0, 0, 0, 1, 0, 1, 1, 0, 1, 0, 0, 0, 0, 1, 0, 1, 1, 1, 1, 1, 0,\n",
       "       0, 0, 1, 1, 1, 0, 0, 0, 1, 0, 1, 0, 0, 0, 0, 0, 1, 1, 0, 0, 0, 0,\n",
       "       1, 1, 1, 1, 1, 1, 1, 1, 1, 0, 1, 1, 0, 0, 1, 1, 0, 1, 0, 1, 0, 0,\n",
       "       1, 1, 0, 1, 1, 0, 0, 1, 1, 1, 0, 0], dtype=int64)"
      ]
     },
     "execution_count": 3,
     "metadata": {},
     "output_type": "execute_result"
    }
   ],
   "source": [
    "from sklearn.cluster import DBSCAN\n",
    "\n",
    "dbscan = DBSCAN(eps=0.3, min_samples=5).fit(moons[0])\n",
    "dbscan.labels_"
   ]
  },
  {
   "cell_type": "code",
   "execution_count": 4,
   "id": "8e91d60c",
   "metadata": {},
   "outputs": [
    {
     "data": {
      "text/plain": [
       "<matplotlib.collections.PathCollection at 0x226231edcd0>"
      ]
     },
     "execution_count": 4,
     "metadata": {},
     "output_type": "execute_result"
    },
    {
     "data": {
      "image/png": "[encoded data removed]",
      "text/plain": [
       "<Figure size 432x288 with 1 Axes>"
      ]
     },
     "metadata": {
      "needs_background": "light"
     },
     "output_type": "display_data"
    }
   ],
   "source": [
    "plt.scatter(moons[0][:,0], moons[0][:,1], c=dbscan.labels_)"
   ]
  },
  {
   "cell_type": "code",
   "execution_count": null,
   "id": "cf4d4269",
   "metadata": {},
   "outputs": [],
   "source": []
  },
  {
   "cell_type": "code",
   "execution_count": null,
   "id": "ba81dce0",
   "metadata": {},
   "outputs": [],
   "source": []
  }
 ],
 "metadata": {
  "kernelspec": {
   "display_name": "Python 3 (ipykernel)",
   "language": "python",
   "name": "python3"
  },
  "language_info": {
   "codemirror_mode": {
    "name": "ipython",
    "version": 3
   },
   "file_extension": ".py",
   "mimetype": "text/x-python",
   "name": "python",
   "nbconvert_exporter": "python",
   "pygments_lexer": "ipython3",
   "version": "3.9.7"
  }
 },
 "nbformat": 4,
 "nbformat_minor": 5
}
