{
 "cells": [
  {
   "cell_type": "markdown",
   "id": "096d0d0e",
   "metadata": {},
   "source": [
    "## The goal of this week's project will be simple cleaning (clearing Nan's, standardizing column titles & data types, and dropping unneccessary columns)"
   ]
  },
  {
   "cell_type": "code",
   "execution_count": 4,
   "id": "70d08f6d",
   "metadata": {},
   "outputs": [],
   "source": [
    "import numpy as np\n",
    "import pandas as pd\n",
    "import math\n",
    "import datetime"
   ]
  },
  {
   "cell_type": "code",
   "execution_count": 2,
   "id": "46128072",
   "metadata": {},
   "outputs": [],
   "source": [
    "pd.set_option('display.max_columns',100)\n",
    "pd.set_option('display.max_rows',None)"
   ]
  },
  {
   "cell_type": "code",
   "execution_count": null,
   "id": "5f8fbac5",
   "metadata": {},
   "outputs": [],
   "source": [
    "#data.sort_values(by=['column name'])"
   ]
  },
  {
   "cell_type": "code",
   "execution_count": null,
   "id": "1df91209",
   "metadata": {},
   "outputs": [],
   "source": [
    "#data = data.rename(columns={ 'controln':'id','hv1':'median_home_val', 'ic1':'median_household_income'})"
   ]
  },
  {
   "cell_type": "code",
   "execution_count": null,
   "id": "11841e76",
   "metadata": {},
   "outputs": [],
   "source": [
    "# data['lpep_pickup_datetime']=pd.to_datetime(data['lpep_pickup_datetime'],errors='coerce')"
   ]
  },
  {
   "cell_type": "code",
   "execution_count": 30,
   "id": "19c34a5e",
   "metadata": {},
   "outputs": [
    {
     "name": "stderr",
     "output_type": "stream",
     "text": [
      "C:\\Users\\Owner\\anaconda3\\lib\\site-packages\\IPython\\core\\interactiveshell.py:3444: DtypeWarning: Columns (3) have mixed types.Specify dtype option on import or set low_memory=False.\n",
      "  exec(code_obj, self.user_global_ns, self.user_ns)\n"
     ]
    }
   ],
   "source": [
    "data = pd.read_csv('C:/Users/Owner/DA/Weekly Projects/weekly_work/Week 1/taxi_tripdata.csv/taxi_tripdata.csv')"
   ]
  },
  {
   "cell_type": "markdown",
   "id": "7f66823b",
   "metadata": {},
   "source": [
    "### Part 1: Explore Data"
   ]
  },
  {
   "cell_type": "code",
   "execution_count": 6,
   "id": "3f9928ca",
   "metadata": {},
   "outputs": [
    {
     "data": {
      "text/html": [
       "<div>\n",
       "<style scoped>\n",
       "    .dataframe tbody tr th:only-of-type {\n",
       "        vertical-align: middle;\n",
       "    }\n",
       "\n",
       "    .dataframe tbody tr th {\n",
       "        vertical-align: top;\n",
       "    }\n",
       "\n",
       "    .dataframe thead th {\n",
       "        text-align: right;\n",
       "    }\n",
       "</style>\n",
       "<table border=\"1\" class=\"dataframe\">\n",
       "  <thead>\n",
       "    <tr style=\"text-align: right;\">\n",
       "      <th></th>\n",
       "      <th>VendorID</th>\n",
       "      <th>lpep_pickup_datetime</th>\n",
       "      <th>lpep_dropoff_datetime</th>\n",
       "      <th>store_and_fwd_flag</th>\n",
       "      <th>RatecodeID</th>\n",
       "      <th>PULocationID</th>\n",
       "      <th>DOLocationID</th>\n",
       "      <th>passenger_count</th>\n",
       "      <th>trip_distance</th>\n",
       "      <th>fare_amount</th>\n",
       "      <th>extra</th>\n",
       "      <th>mta_tax</th>\n",
       "      <th>tip_amount</th>\n",
       "      <th>tolls_amount</th>\n",
       "      <th>ehail_fee</th>\n",
       "      <th>improvement_surcharge</th>\n",
       "      <th>total_amount</th>\n",
       "      <th>payment_type</th>\n",
       "      <th>trip_type</th>\n",
       "      <th>congestion_surcharge</th>\n",
       "    </tr>\n",
       "  </thead>\n",
       "  <tbody>\n",
       "    <tr>\n",
       "      <th>0</th>\n",
       "      <td>1.0</td>\n",
       "      <td>2021-07-01 00:30:52</td>\n",
       "      <td>2021-07-01 00:35:36</td>\n",
       "      <td>N</td>\n",
       "      <td>1.0</td>\n",
       "      <td>74</td>\n",
       "      <td>168</td>\n",
       "      <td>1.0</td>\n",
       "      <td>1.20</td>\n",
       "      <td>6.0</td>\n",
       "      <td>0.5</td>\n",
       "      <td>0.5</td>\n",
       "      <td>0.00</td>\n",
       "      <td>0.0</td>\n",
       "      <td>NaN</td>\n",
       "      <td>0.3</td>\n",
       "      <td>7.30</td>\n",
       "      <td>2.0</td>\n",
       "      <td>1.0</td>\n",
       "      <td>0.0</td>\n",
       "    </tr>\n",
       "    <tr>\n",
       "      <th>1</th>\n",
       "      <td>2.0</td>\n",
       "      <td>2021-07-01 00:25:36</td>\n",
       "      <td>2021-07-01 01:01:31</td>\n",
       "      <td>N</td>\n",
       "      <td>1.0</td>\n",
       "      <td>116</td>\n",
       "      <td>265</td>\n",
       "      <td>2.0</td>\n",
       "      <td>13.69</td>\n",
       "      <td>42.0</td>\n",
       "      <td>0.5</td>\n",
       "      <td>0.5</td>\n",
       "      <td>0.00</td>\n",
       "      <td>0.0</td>\n",
       "      <td>NaN</td>\n",
       "      <td>0.3</td>\n",
       "      <td>43.30</td>\n",
       "      <td>2.0</td>\n",
       "      <td>1.0</td>\n",
       "      <td>0.0</td>\n",
       "    </tr>\n",
       "    <tr>\n",
       "      <th>2</th>\n",
       "      <td>2.0</td>\n",
       "      <td>2021-07-01 00:05:58</td>\n",
       "      <td>2021-07-01 00:12:00</td>\n",
       "      <td>N</td>\n",
       "      <td>1.0</td>\n",
       "      <td>97</td>\n",
       "      <td>33</td>\n",
       "      <td>1.0</td>\n",
       "      <td>0.95</td>\n",
       "      <td>6.5</td>\n",
       "      <td>0.5</td>\n",
       "      <td>0.5</td>\n",
       "      <td>2.34</td>\n",
       "      <td>0.0</td>\n",
       "      <td>NaN</td>\n",
       "      <td>0.3</td>\n",
       "      <td>10.14</td>\n",
       "      <td>1.0</td>\n",
       "      <td>1.0</td>\n",
       "      <td>0.0</td>\n",
       "    </tr>\n",
       "    <tr>\n",
       "      <th>3</th>\n",
       "      <td>2.0</td>\n",
       "      <td>2021-07-01 00:41:40</td>\n",
       "      <td>2021-07-01 00:47:23</td>\n",
       "      <td>N</td>\n",
       "      <td>1.0</td>\n",
       "      <td>74</td>\n",
       "      <td>42</td>\n",
       "      <td>1.0</td>\n",
       "      <td>1.24</td>\n",
       "      <td>6.5</td>\n",
       "      <td>0.5</td>\n",
       "      <td>0.5</td>\n",
       "      <td>0.00</td>\n",
       "      <td>0.0</td>\n",
       "      <td>NaN</td>\n",
       "      <td>0.3</td>\n",
       "      <td>7.80</td>\n",
       "      <td>2.0</td>\n",
       "      <td>1.0</td>\n",
       "      <td>0.0</td>\n",
       "    </tr>\n",
       "    <tr>\n",
       "      <th>4</th>\n",
       "      <td>2.0</td>\n",
       "      <td>2021-07-01 00:51:32</td>\n",
       "      <td>2021-07-01 00:58:46</td>\n",
       "      <td>N</td>\n",
       "      <td>1.0</td>\n",
       "      <td>42</td>\n",
       "      <td>244</td>\n",
       "      <td>1.0</td>\n",
       "      <td>1.10</td>\n",
       "      <td>7.0</td>\n",
       "      <td>0.5</td>\n",
       "      <td>0.5</td>\n",
       "      <td>0.00</td>\n",
       "      <td>0.0</td>\n",
       "      <td>NaN</td>\n",
       "      <td>0.3</td>\n",
       "      <td>8.30</td>\n",
       "      <td>2.0</td>\n",
       "      <td>1.0</td>\n",
       "      <td>0.0</td>\n",
       "    </tr>\n",
       "  </tbody>\n",
       "</table>\n",
       "</div>"
      ],
      "text/plain": [
       "   VendorID lpep_pickup_datetime lpep_dropoff_datetime store_and_fwd_flag  \\\n",
       "0       1.0  2021-07-01 00:30:52   2021-07-01 00:35:36                  N   \n",
       "1       2.0  2021-07-01 00:25:36   2021-07-01 01:01:31                  N   \n",
       "2       2.0  2021-07-01 00:05:58   2021-07-01 00:12:00                  N   \n",
       "3       2.0  2021-07-01 00:41:40   2021-07-01 00:47:23                  N   \n",
       "4       2.0  2021-07-01 00:51:32   2021-07-01 00:58:46                  N   \n",
       "\n",
       "   RatecodeID  PULocationID  DOLocationID  passenger_count  trip_distance  \\\n",
       "0         1.0            74           168              1.0           1.20   \n",
       "1         1.0           116           265              2.0          13.69   \n",
       "2         1.0            97            33              1.0           0.95   \n",
       "3         1.0            74            42              1.0           1.24   \n",
       "4         1.0            42           244              1.0           1.10   \n",
       "\n",
       "   fare_amount  extra  mta_tax  tip_amount  tolls_amount  ehail_fee  \\\n",
       "0          6.0    0.5      0.5        0.00           0.0        NaN   \n",
       "1         42.0    0.5      0.5        0.00           0.0        NaN   \n",
       "2          6.5    0.5      0.5        2.34           0.0        NaN   \n",
       "3          6.5    0.5      0.5        0.00           0.0        NaN   \n",
       "4          7.0    0.5      0.5        0.00           0.0        NaN   \n",
       "\n",
       "   improvement_surcharge  total_amount  payment_type  trip_type  \\\n",
       "0                    0.3          7.30           2.0        1.0   \n",
       "1                    0.3         43.30           2.0        1.0   \n",
       "2                    0.3         10.14           1.0        1.0   \n",
       "3                    0.3          7.80           2.0        1.0   \n",
       "4                    0.3          8.30           2.0        1.0   \n",
       "\n",
       "   congestion_surcharge  \n",
       "0                   0.0  \n",
       "1                   0.0  \n",
       "2                   0.0  \n",
       "3                   0.0  \n",
       "4                   0.0  "
      ]
     },
     "execution_count": 6,
     "metadata": {},
     "output_type": "execute_result"
    }
   ],
   "source": [
    "data.head()"
   ]
  },
  {
   "cell_type": "code",
   "execution_count": 7,
   "id": "351f056a",
   "metadata": {},
   "outputs": [
    {
     "data": {
      "text/plain": [
       "((83691, 20),\n",
       " Index(['VendorID', 'lpep_pickup_datetime', 'lpep_dropoff_datetime',\n",
       "        'store_and_fwd_flag', 'RatecodeID', 'PULocationID', 'DOLocationID',\n",
       "        'passenger_count', 'trip_distance', 'fare_amount', 'extra', 'mta_tax',\n",
       "        'tip_amount', 'tolls_amount', 'ehail_fee', 'improvement_surcharge',\n",
       "        'total_amount', 'payment_type', 'trip_type', 'congestion_surcharge'],\n",
       "       dtype='object'))"
      ]
     },
     "execution_count": 7,
     "metadata": {},
     "output_type": "execute_result"
    }
   ],
   "source": [
    "data.shape,data.columns"
   ]
  },
  {
   "cell_type": "code",
   "execution_count": 5,
   "id": "9134ae48",
   "metadata": {},
   "outputs": [
    {
     "data": {
      "text/plain": [
       "VendorID                 float64\n",
       "lpep_pickup_datetime      object\n",
       "lpep_dropoff_datetime     object\n",
       "store_and_fwd_flag        object\n",
       "RatecodeID               float64\n",
       "PULocationID               int64\n",
       "DOLocationID               int64\n",
       "passenger_count          float64\n",
       "trip_distance            float64\n",
       "fare_amount              float64\n",
       "extra                    float64\n",
       "mta_tax                  float64\n",
       "tip_amount               float64\n",
       "tolls_amount             float64\n",
       "ehail_fee                float64\n",
       "improvement_surcharge    float64\n",
       "total_amount             float64\n",
       "payment_type             float64\n",
       "trip_type                float64\n",
       "congestion_surcharge     float64\n",
       "dtype: object"
      ]
     },
     "execution_count": 5,
     "metadata": {},
     "output_type": "execute_result"
    }
   ],
   "source": [
    "data.dtypes"
   ]
  },
  {
   "cell_type": "markdown",
   "id": "c82157fb",
   "metadata": {},
   "source": [
    "#### A few notes: datetime columns need conversions, the rest are likely correct but will double check"
   ]
  },
  {
   "cell_type": "code",
   "execution_count": 15,
   "id": "66c67020",
   "metadata": {},
   "outputs": [
    {
     "name": "stdout",
     "output_type": "stream",
     "text": [
      "Column  VendorID holds 2.0    43554\n",
      "1.0     7619\n",
      "Name: VendorID, dtype: int64\n",
      "Column  lpep_pickup_datetime holds 2021-07-19 12:38:00    9\n",
      "2021-07-31 09:02:00    9\n",
      "2021-07-28 11:25:00    8\n",
      "2021-07-07 09:28:00    8\n",
      "2021-07-07 09:20:00    8\n",
      "                      ..\n",
      "2021-07-15 13:48:29    1\n",
      "2021-07-15 13:14:54    1\n",
      "2021-07-15 14:34:04    1\n",
      "2021-07-15 14:36:26    1\n",
      "2021-07-02 07:58:00    1\n",
      "Name: lpep_pickup_datetime, Length: 69694, dtype: int64\n",
      "Column  lpep_dropoff_datetime holds 2021-07-21 13:27:00    8\n",
      "2021-07-06 09:43:00    7\n",
      "2021-07-29 10:00:00    7\n",
      "2021-07-13 08:56:00    7\n",
      "2021-07-08 12:44:00    7\n",
      "                      ..\n",
      "2021-07-15 15:59:18    1\n",
      "2021-07-15 15:02:52    1\n",
      "2021-07-15 14:37:43    1\n",
      "2021-07-15 14:10:47    1\n",
      "2021-07-02 08:30:00    1\n",
      "Name: lpep_dropoff_datetime, Length: 69832, dtype: int64\n",
      "Column  store_and_fwd_flag holds N    50977\n",
      "Y      196\n",
      "Name: store_and_fwd_flag, dtype: int64\n",
      "Column  RatecodeID holds 1.0    48994\n",
      "5.0     1954\n",
      "2.0      158\n",
      "4.0       41\n",
      "3.0       26\n",
      "Name: RatecodeID, dtype: int64\n",
      "Column  PULocationID holds 74     8770\n",
      "75     7713\n",
      "41     4761\n",
      "42     3229\n",
      "95     2486\n",
      "       ... \n",
      "172       1\n",
      "245       1\n",
      "214       1\n",
      "30        1\n",
      "84        1\n",
      "Name: PULocationID, Length: 253, dtype: int64\n",
      "Column  DOLocationID holds 74     3666\n",
      "75     3122\n",
      "42     2904\n",
      "41     2527\n",
      "236    1700\n",
      "       ... \n",
      "84        2\n",
      "214       2\n",
      "2         1\n",
      "176       1\n",
      "204       1\n",
      "Name: DOLocationID, Length: 258, dtype: int64\n",
      "Column  passenger_count holds 1.0     44127\n",
      "2.0      3922\n",
      "5.0      1240\n",
      "6.0      1018\n",
      "3.0       626\n",
      "4.0       181\n",
      "0.0        56\n",
      "7.0         2\n",
      "32.0        1\n",
      "Name: passenger_count, dtype: int64\n",
      "Column  trip_distance holds 0.00     3455\n",
      "1.40      507\n",
      "1.60      408\n",
      "1.10      383\n",
      "1.00      383\n",
      "         ... \n",
      "25.70       1\n",
      "36.46       1\n",
      "22.85       1\n",
      "33.77       1\n",
      "33.63       1\n",
      "Name: trip_distance, Length: 3153, dtype: int64\n",
      "Column  fare_amount holds 7.00     2174\n",
      "6.50     2087\n",
      "6.00     2074\n",
      "8.00     2058\n",
      "7.50     2016\n",
      "         ... \n",
      "55.72       1\n",
      "53.91       1\n",
      "55.73       1\n",
      "39.98       1\n",
      "60.24       1\n",
      "Name: fare_amount, Length: 3982, dtype: int64\n",
      "Column  extra holds  0.00    37210\n",
      " 2.75    25754\n",
      " 1.00     9456\n",
      " 0.50     8156\n",
      " 5.50     1541\n",
      " 1.35      856\n",
      " 3.75      307\n",
      " 3.25      160\n",
      " 8.25       86\n",
      " 4.10       74\n",
      "-0.50       29\n",
      " 4.50       28\n",
      "-1.00       17\n",
      " 6.85        8\n",
      "-2.75        5\n",
      " 1.75        2\n",
      "-4.50        1\n",
      "-1.35        1\n",
      "Name: extra, dtype: int64\n",
      "Column  mta_tax holds  0.5    49269\n",
      " 0.0    34290\n",
      "-0.5      132\n",
      "Name: mta_tax, dtype: int64\n",
      "Column  tip_amount holds 0.00     57279\n",
      "2.00      1595\n",
      "1.00      1542\n",
      "3.00      1025\n",
      "1.56       363\n",
      "         ...  \n",
      "19.11        1\n",
      "11.56        1\n",
      "13.98        1\n",
      "8.73         1\n",
      "14.05        1\n",
      "Name: tip_amount, Length: 1332, dtype: int64\n",
      "Column  tolls_amount holds 0.00     75541\n",
      "6.55      6842\n",
      "2.45       433\n",
      "3.00       351\n",
      "6.12       138\n",
      "13.10      118\n",
      "9.00        73\n",
      "13.75       47\n",
      "11.75       38\n",
      "9.55        22\n",
      "2.29        18\n",
      "4.90        13\n",
      "18.30       10\n",
      "10.17        9\n",
      "23.50        4\n",
      "20.30        4\n",
      "19.65        4\n",
      "7.50         3\n",
      "2.75         3\n",
      "8.41         3\n",
      "27.50        3\n",
      "2.80         2\n",
      "30.05        2\n",
      "8.21         1\n",
      "26.85        1\n",
      "0.40         1\n",
      "20.00        1\n",
      "11.45        1\n",
      "17.87        1\n",
      "11.13        1\n",
      "12.00        1\n",
      "26.20        1\n",
      "16.75        1\n",
      "Name: tolls_amount, dtype: int64\n",
      "Column  ehail_fee holds Series([], Name: ehail_fee, dtype: int64)\n",
      "Column  improvement_surcharge holds  0.3    83203\n",
      " 0.0      347\n",
      "-0.3      141\n",
      "Name: improvement_surcharge, dtype: int64\n",
      "Column  total_amount holds 7.80     1157\n",
      "6.80     1148\n",
      "8.30     1134\n",
      "7.30     1130\n",
      "8.80     1079\n",
      "         ... \n",
      "79.36       1\n",
      "59.25       1\n",
      "76.10       1\n",
      "43.81       1\n",
      "25.87       1\n",
      "Name: total_amount, Length: 4629, dtype: int64\n",
      "Column  payment_type holds 1.0    29990\n",
      "2.0    20831\n",
      "3.0      307\n",
      "4.0       44\n",
      "5.0        1\n",
      "Name: payment_type, dtype: int64\n",
      "Column  trip_type holds 1.0    49413\n",
      "2.0     1760\n",
      "Name: trip_type, dtype: int64\n",
      "Column  congestion_surcharge holds  0.00    39205\n",
      " 2.75    11962\n",
      "-2.75        3\n",
      " 2.50        3\n",
      "Name: congestion_surcharge, dtype: int64\n"
     ]
    }
   ],
   "source": [
    "for i in data.columns:\n",
    "    print('Column ',i,'holds',data[i].value_counts())\n"
   ]
  },
  {
   "cell_type": "code",
   "execution_count": 16,
   "id": "16dd24b2",
   "metadata": {},
   "outputs": [
    {
     "data": {
      "text/plain": [
       "VendorID                 32518\n",
       "lpep_pickup_datetime         0\n",
       "lpep_dropoff_datetime        0\n",
       "store_and_fwd_flag       32518\n",
       "RatecodeID               32518\n",
       "PULocationID                 0\n",
       "DOLocationID                 0\n",
       "passenger_count          32518\n",
       "trip_distance                0\n",
       "fare_amount                  0\n",
       "extra                        0\n",
       "mta_tax                      0\n",
       "tip_amount                   0\n",
       "tolls_amount                 0\n",
       "ehail_fee                83691\n",
       "improvement_surcharge        0\n",
       "total_amount                 0\n",
       "payment_type             32518\n",
       "trip_type                32518\n",
       "congestion_surcharge     32518\n",
       "dtype: int64"
      ]
     },
     "execution_count": 16,
     "metadata": {},
     "output_type": "execute_result"
    }
   ],
   "source": [
    "data.isna().sum()"
   ]
  },
  {
   "cell_type": "markdown",
   "id": "3530b3c2",
   "metadata": {},
   "source": [
    "### Part 2: Dropping Clearly Unimportant Data"
   ]
  },
  {
   "cell_type": "code",
   "execution_count": 31,
   "id": "861e9944",
   "metadata": {},
   "outputs": [
    {
     "data": {
      "text/plain": [
       "Series([], Name: ehail_fee, dtype: int64)"
      ]
     },
     "execution_count": 31,
     "metadata": {},
     "output_type": "execute_result"
    }
   ],
   "source": [
    "data['ehail_fee'].value_counts()"
   ]
  },
  {
   "cell_type": "markdown",
   "id": "5f9f02a4",
   "metadata": {},
   "source": [
    "#### all of ehail_fee is nan, to be dropped"
   ]
  },
  {
   "cell_type": "code",
   "execution_count": 17,
   "id": "970a023f",
   "metadata": {},
   "outputs": [],
   "source": [
    "data=data.drop(['ehail_fee'],axis=1)"
   ]
  },
  {
   "cell_type": "code",
   "execution_count": 32,
   "id": "909f99c5",
   "metadata": {},
   "outputs": [
    {
     "data": {
      "text/plain": [
       "(83691, 20)"
      ]
     },
     "execution_count": 32,
     "metadata": {},
     "output_type": "execute_result"
    }
   ],
   "source": [
    "data.shape"
   ]
  },
  {
   "cell_type": "code",
   "execution_count": 11,
   "id": "8f746766",
   "metadata": {},
   "outputs": [
    {
     "data": {
      "text/plain": [
       "83691"
      ]
     },
     "execution_count": 11,
     "metadata": {},
     "output_type": "execute_result"
    }
   ],
   "source": [
    "data['ehail_fee'].isna().sum()"
   ]
  },
  {
   "cell_type": "markdown",
   "id": "1f1ac850",
   "metadata": {},
   "source": [
    "#### The following columns have 32518 of 83691 values as NaNs: payment_type, trip_type, congestion_surcharge, VendorID, store_and_fwd_flag, RatecodeID, passenger_count. \n",
    "\n",
    "#### Will decide if these columns should be cleaned, dropped, or kept as is."
   ]
  },
  {
   "cell_type": "code",
   "execution_count": 13,
   "id": "8126afa1",
   "metadata": {},
   "outputs": [
    {
     "name": "stdout",
     "output_type": "stream",
     "text": [
      "Nan value count for  VendorID  is 32518 .  All other value counts are:  2.0    43554\n",
      "1.0     7619\n",
      "Name: VendorID, dtype: int64\n",
      "Nan value count for  store_and_fwd_flag  is 32518 .  All other value counts are:  N    50977\n",
      "Y      196\n",
      "Name: store_and_fwd_flag, dtype: int64\n",
      "Nan value count for  RatecodeID  is 32518 .  All other value counts are:  1.0    48994\n",
      "5.0     1954\n",
      "2.0      158\n",
      "4.0       41\n",
      "3.0       26\n",
      "Name: RatecodeID, dtype: int64\n",
      "Nan value count for  passenger_count  is 32518 .  All other value counts are:  1.0     44127\n",
      "2.0      3922\n",
      "5.0      1240\n",
      "6.0      1018\n",
      "3.0       626\n",
      "4.0       181\n",
      "0.0        56\n",
      "7.0         2\n",
      "32.0        1\n",
      "Name: passenger_count, dtype: int64\n",
      "Nan value count for  ehail_fee  is 83691 .  All other value counts are:  Series([], Name: ehail_fee, dtype: int64)\n",
      "Nan value count for  payment_type  is 32518 .  All other value counts are:  1.0    29990\n",
      "2.0    20831\n",
      "3.0      307\n",
      "4.0       44\n",
      "5.0        1\n",
      "Name: payment_type, dtype: int64\n",
      "Nan value count for  trip_type  is 32518 .  All other value counts are:  1.0    49413\n",
      "2.0     1760\n",
      "Name: trip_type, dtype: int64\n",
      "Nan value count for  congestion_surcharge  is 32518 .  All other value counts are:   0.00    39205\n",
      " 2.75    11962\n",
      "-2.75        3\n",
      " 2.50        3\n",
      "Name: congestion_surcharge, dtype: int64\n"
     ]
    }
   ],
   "source": [
    "for i in data.columns:\n",
    "    if (data[i].isna().sum()>0):\n",
    "        print('Nan value count for ', i ,' is',data[i].isna().sum(),'.  All other value counts are: ', data[i].value_counts())"
   ]
  },
  {
   "cell_type": "markdown",
   "id": "b177fd66",
   "metadata": {},
   "source": [
    "# Continue analyzing Nan value columns"
   ]
  },
  {
   "cell_type": "markdown",
   "id": "7ec10e65",
   "metadata": {},
   "source": [
    "#### At the moment, Kaggle site gives little to know description of column info so it is difficult to know how to use any of the non-intuitive columns, making it difficult to decide what is useful and what is not"
   ]
  },
  {
   "cell_type": "markdown",
   "id": "6dab378c",
   "metadata": {},
   "source": [
    "### Part 3: Converting to Appropriate Dtypes"
   ]
  },
  {
   "cell_type": "code",
   "execution_count": 35,
   "id": "a2ed5034",
   "metadata": {},
   "outputs": [],
   "source": [
    "# now that data I don't need is gone, I am converting lpep columns to datetime\n",
    "\n",
    "data['lpep_pickup_datetime']=pd.to_datetime(data['lpep_pickup_datetime'],errors='coerce')\n",
    "data['lpep_dropoff_datetime']=pd.to_datetime(data['lpep_dropoff_datetime'],errors='coerce')"
   ]
  },
  {
   "cell_type": "code",
   "execution_count": 36,
   "id": "ad6d101e",
   "metadata": {},
   "outputs": [
    {
     "data": {
      "text/plain": [
       "VendorID                        float64\n",
       "lpep_pickup_datetime     datetime64[ns]\n",
       "lpep_dropoff_datetime    datetime64[ns]\n",
       "store_and_fwd_flag               object\n",
       "RatecodeID                      float64\n",
       "PULocationID                      int64\n",
       "DOLocationID                      int64\n",
       "passenger_count                 float64\n",
       "trip_distance                   float64\n",
       "fare_amount                     float64\n",
       "extra                           float64\n",
       "mta_tax                         float64\n",
       "tip_amount                      float64\n",
       "tolls_amount                    float64\n",
       "ehail_fee                       float64\n",
       "improvement_surcharge           float64\n",
       "total_amount                    float64\n",
       "payment_type                    float64\n",
       "trip_type                       float64\n",
       "congestion_surcharge            float64\n",
       "dtype: object"
      ]
     },
     "execution_count": 36,
     "metadata": {},
     "output_type": "execute_result"
    }
   ],
   "source": [
    "data.dtypes"
   ]
  },
  {
   "cell_type": "code",
   "execution_count": 11,
   "id": "fb036a96",
   "metadata": {},
   "outputs": [
    {
     "data": {
      "text/html": [
       "<div>\n",
       "<style scoped>\n",
       "    .dataframe tbody tr th:only-of-type {\n",
       "        vertical-align: middle;\n",
       "    }\n",
       "\n",
       "    .dataframe tbody tr th {\n",
       "        vertical-align: top;\n",
       "    }\n",
       "\n",
       "    .dataframe thead th {\n",
       "        text-align: right;\n",
       "    }\n",
       "</style>\n",
       "<table border=\"1\" class=\"dataframe\">\n",
       "  <thead>\n",
       "    <tr style=\"text-align: right;\">\n",
       "      <th></th>\n",
       "      <th>VendorID</th>\n",
       "      <th>lpep_pickup_datetime</th>\n",
       "      <th>lpep_dropoff_datetime</th>\n",
       "      <th>store_and_fwd_flag</th>\n",
       "      <th>RatecodeID</th>\n",
       "      <th>PULocationID</th>\n",
       "      <th>DOLocationID</th>\n",
       "      <th>passenger_count</th>\n",
       "      <th>trip_distance</th>\n",
       "      <th>fare_amount</th>\n",
       "      <th>extra</th>\n",
       "      <th>mta_tax</th>\n",
       "      <th>tip_amount</th>\n",
       "      <th>tolls_amount</th>\n",
       "      <th>ehail_fee</th>\n",
       "      <th>improvement_surcharge</th>\n",
       "      <th>total_amount</th>\n",
       "      <th>payment_type</th>\n",
       "      <th>trip_type</th>\n",
       "      <th>congestion_surcharge</th>\n",
       "    </tr>\n",
       "  </thead>\n",
       "  <tbody>\n",
       "    <tr>\n",
       "      <th>0</th>\n",
       "      <td>1.0</td>\n",
       "      <td>2021-07-01 00:30:52</td>\n",
       "      <td>2021-07-01 00:35:36</td>\n",
       "      <td>N</td>\n",
       "      <td>1.0</td>\n",
       "      <td>74</td>\n",
       "      <td>168</td>\n",
       "      <td>1.0</td>\n",
       "      <td>1.20</td>\n",
       "      <td>6.0</td>\n",
       "      <td>0.5</td>\n",
       "      <td>0.5</td>\n",
       "      <td>0.00</td>\n",
       "      <td>0.0</td>\n",
       "      <td>NaN</td>\n",
       "      <td>0.3</td>\n",
       "      <td>7.30</td>\n",
       "      <td>2.0</td>\n",
       "      <td>1.0</td>\n",
       "      <td>0.0</td>\n",
       "    </tr>\n",
       "    <tr>\n",
       "      <th>1</th>\n",
       "      <td>2.0</td>\n",
       "      <td>2021-07-01 00:25:36</td>\n",
       "      <td>2021-07-01 01:01:31</td>\n",
       "      <td>N</td>\n",
       "      <td>1.0</td>\n",
       "      <td>116</td>\n",
       "      <td>265</td>\n",
       "      <td>2.0</td>\n",
       "      <td>13.69</td>\n",
       "      <td>42.0</td>\n",
       "      <td>0.5</td>\n",
       "      <td>0.5</td>\n",
       "      <td>0.00</td>\n",
       "      <td>0.0</td>\n",
       "      <td>NaN</td>\n",
       "      <td>0.3</td>\n",
       "      <td>43.30</td>\n",
       "      <td>2.0</td>\n",
       "      <td>1.0</td>\n",
       "      <td>0.0</td>\n",
       "    </tr>\n",
       "    <tr>\n",
       "      <th>2</th>\n",
       "      <td>2.0</td>\n",
       "      <td>2021-07-01 00:05:58</td>\n",
       "      <td>2021-07-01 00:12:00</td>\n",
       "      <td>N</td>\n",
       "      <td>1.0</td>\n",
       "      <td>97</td>\n",
       "      <td>33</td>\n",
       "      <td>1.0</td>\n",
       "      <td>0.95</td>\n",
       "      <td>6.5</td>\n",
       "      <td>0.5</td>\n",
       "      <td>0.5</td>\n",
       "      <td>2.34</td>\n",
       "      <td>0.0</td>\n",
       "      <td>NaN</td>\n",
       "      <td>0.3</td>\n",
       "      <td>10.14</td>\n",
       "      <td>1.0</td>\n",
       "      <td>1.0</td>\n",
       "      <td>0.0</td>\n",
       "    </tr>\n",
       "    <tr>\n",
       "      <th>3</th>\n",
       "      <td>2.0</td>\n",
       "      <td>2021-07-01 00:41:40</td>\n",
       "      <td>2021-07-01 00:47:23</td>\n",
       "      <td>N</td>\n",
       "      <td>1.0</td>\n",
       "      <td>74</td>\n",
       "      <td>42</td>\n",
       "      <td>1.0</td>\n",
       "      <td>1.24</td>\n",
       "      <td>6.5</td>\n",
       "      <td>0.5</td>\n",
       "      <td>0.5</td>\n",
       "      <td>0.00</td>\n",
       "      <td>0.0</td>\n",
       "      <td>NaN</td>\n",
       "      <td>0.3</td>\n",
       "      <td>7.80</td>\n",
       "      <td>2.0</td>\n",
       "      <td>1.0</td>\n",
       "      <td>0.0</td>\n",
       "    </tr>\n",
       "    <tr>\n",
       "      <th>4</th>\n",
       "      <td>2.0</td>\n",
       "      <td>2021-07-01 00:51:32</td>\n",
       "      <td>2021-07-01 00:58:46</td>\n",
       "      <td>N</td>\n",
       "      <td>1.0</td>\n",
       "      <td>42</td>\n",
       "      <td>244</td>\n",
       "      <td>1.0</td>\n",
       "      <td>1.10</td>\n",
       "      <td>7.0</td>\n",
       "      <td>0.5</td>\n",
       "      <td>0.5</td>\n",
       "      <td>0.00</td>\n",
       "      <td>0.0</td>\n",
       "      <td>NaN</td>\n",
       "      <td>0.3</td>\n",
       "      <td>8.30</td>\n",
       "      <td>2.0</td>\n",
       "      <td>1.0</td>\n",
       "      <td>0.0</td>\n",
       "    </tr>\n",
       "  </tbody>\n",
       "</table>\n",
       "</div>"
      ],
      "text/plain": [
       "   VendorID lpep_pickup_datetime lpep_dropoff_datetime store_and_fwd_flag  \\\n",
       "0       1.0  2021-07-01 00:30:52   2021-07-01 00:35:36                  N   \n",
       "1       2.0  2021-07-01 00:25:36   2021-07-01 01:01:31                  N   \n",
       "2       2.0  2021-07-01 00:05:58   2021-07-01 00:12:00                  N   \n",
       "3       2.0  2021-07-01 00:41:40   2021-07-01 00:47:23                  N   \n",
       "4       2.0  2021-07-01 00:51:32   2021-07-01 00:58:46                  N   \n",
       "\n",
       "   RatecodeID  PULocationID  DOLocationID  passenger_count  trip_distance  \\\n",
       "0         1.0            74           168              1.0           1.20   \n",
       "1         1.0           116           265              2.0          13.69   \n",
       "2         1.0            97            33              1.0           0.95   \n",
       "3         1.0            74            42              1.0           1.24   \n",
       "4         1.0            42           244              1.0           1.10   \n",
       "\n",
       "   fare_amount  extra  mta_tax  tip_amount  tolls_amount  ehail_fee  \\\n",
       "0          6.0    0.5      0.5        0.00           0.0        NaN   \n",
       "1         42.0    0.5      0.5        0.00           0.0        NaN   \n",
       "2          6.5    0.5      0.5        2.34           0.0        NaN   \n",
       "3          6.5    0.5      0.5        0.00           0.0        NaN   \n",
       "4          7.0    0.5      0.5        0.00           0.0        NaN   \n",
       "\n",
       "   improvement_surcharge  total_amount  payment_type  trip_type  \\\n",
       "0                    0.3          7.30           2.0        1.0   \n",
       "1                    0.3         43.30           2.0        1.0   \n",
       "2                    0.3         10.14           1.0        1.0   \n",
       "3                    0.3          7.80           2.0        1.0   \n",
       "4                    0.3          8.30           2.0        1.0   \n",
       "\n",
       "   congestion_surcharge  \n",
       "0                   0.0  \n",
       "1                   0.0  \n",
       "2                   0.0  \n",
       "3                   0.0  \n",
       "4                   0.0  "
      ]
     },
     "execution_count": 11,
     "metadata": {},
     "output_type": "execute_result"
    }
   ],
   "source": [
    "# all data in lpeps appears intact and has not been altered\n",
    "data.head()"
   ]
  },
  {
   "cell_type": "markdown",
   "id": "535ce490",
   "metadata": {},
   "source": [
    "#### creating column for time elapsed"
   ]
  },
  {
   "cell_type": "code",
   "execution_count": 33,
   "id": "fdabe6c5",
   "metadata": {},
   "outputs": [],
   "source": [
    "def triptime(x,y):\n",
    "    return x-y"
   ]
  },
  {
   "cell_type": "code",
   "execution_count": 37,
   "id": "f3dfdd28",
   "metadata": {},
   "outputs": [],
   "source": [
    "data['Trip Time']=list(map(triptime,data['lpep_dropoff_datetime'],data['lpep_pickup_datetime']))\n",
    "# can alternatively replace 'triptime' with 'lambda x,y: x-y'  ?"
   ]
  },
  {
   "cell_type": "code",
   "execution_count": 38,
   "id": "5a02b109",
   "metadata": {},
   "outputs": [
    {
     "data": {
      "text/plain": [
       "Index(['VendorID', 'lpep_pickup_datetime', 'lpep_dropoff_datetime',\n",
       "       'store_and_fwd_flag', 'RatecodeID', 'PULocationID', 'DOLocationID',\n",
       "       'passenger_count', 'trip_distance', 'fare_amount', 'extra', 'mta_tax',\n",
       "       'tip_amount', 'tolls_amount', 'ehail_fee', 'improvement_surcharge',\n",
       "       'total_amount', 'payment_type', 'trip_type', 'congestion_surcharge',\n",
       "       'Trip Time'],\n",
       "      dtype='object')"
      ]
     },
     "execution_count": 38,
     "metadata": {},
     "output_type": "execute_result"
    }
   ],
   "source": [
    "data.columns"
   ]
  },
  {
   "cell_type": "code",
   "execution_count": 39,
   "id": "e06a664f",
   "metadata": {},
   "outputs": [
    {
     "data": {
      "text/plain": [
       "(83691, 21)"
      ]
     },
     "execution_count": 39,
     "metadata": {},
     "output_type": "execute_result"
    }
   ],
   "source": [
    "data.shape"
   ]
  },
  {
   "cell_type": "code",
   "execution_count": 85,
   "id": "b472640d",
   "metadata": {},
   "outputs": [],
   "source": [
    "columns = data.columns.tolist()"
   ]
  },
  {
   "cell_type": "code",
   "execution_count": 86,
   "id": "6e3be23d",
   "metadata": {},
   "outputs": [
    {
     "data": {
      "text/plain": [
       "['VendorID',\n",
       " 'lpep_pickup_datetime',\n",
       " 'lpep_dropoff_datetime',\n",
       " 'Trip Time',\n",
       " 'store_and_fwd_flag',\n",
       " 'RatecodeID',\n",
       " 'PULocationID',\n",
       " 'DOLocationID',\n",
       " 'passenger_count',\n",
       " 'trip_distance',\n",
       " 'fare_amount',\n",
       " 'extra',\n",
       " 'mta_tax',\n",
       " 'tip_amount',\n",
       " 'tolls_amount',\n",
       " 'ehail_fee',\n",
       " 'improvement_surcharge',\n",
       " 'total_amount',\n",
       " 'payment_type',\n",
       " 'trip_type',\n",
       " 'congestion_surcharge']"
      ]
     },
     "execution_count": 86,
     "metadata": {},
     "output_type": "execute_result"
    }
   ],
   "source": [
    "columns=columns[0:3]+columns[-1:]+columns[3:-1]\n",
    "columns"
   ]
  },
  {
   "cell_type": "code",
   "execution_count": 88,
   "id": "f784beec",
   "metadata": {},
   "outputs": [
    {
     "data": {
      "text/html": [
       "<div>\n",
       "<style scoped>\n",
       "    .dataframe tbody tr th:only-of-type {\n",
       "        vertical-align: middle;\n",
       "    }\n",
       "\n",
       "    .dataframe tbody tr th {\n",
       "        vertical-align: top;\n",
       "    }\n",
       "\n",
       "    .dataframe thead th {\n",
       "        text-align: right;\n",
       "    }\n",
       "</style>\n",
       "<table border=\"1\" class=\"dataframe\">\n",
       "  <thead>\n",
       "    <tr style=\"text-align: right;\">\n",
       "      <th></th>\n",
       "      <th>VendorID</th>\n",
       "      <th>lpep_pickup_datetime</th>\n",
       "      <th>lpep_dropoff_datetime</th>\n",
       "      <th>Trip Time</th>\n",
       "      <th>store_and_fwd_flag</th>\n",
       "      <th>RatecodeID</th>\n",
       "      <th>PULocationID</th>\n",
       "      <th>DOLocationID</th>\n",
       "      <th>passenger_count</th>\n",
       "      <th>trip_distance</th>\n",
       "      <th>fare_amount</th>\n",
       "      <th>extra</th>\n",
       "      <th>mta_tax</th>\n",
       "      <th>tip_amount</th>\n",
       "      <th>tolls_amount</th>\n",
       "      <th>ehail_fee</th>\n",
       "      <th>improvement_surcharge</th>\n",
       "      <th>total_amount</th>\n",
       "      <th>payment_type</th>\n",
       "      <th>trip_type</th>\n",
       "      <th>congestion_surcharge</th>\n",
       "    </tr>\n",
       "  </thead>\n",
       "  <tbody>\n",
       "    <tr>\n",
       "      <th>0</th>\n",
       "      <td>1.0</td>\n",
       "      <td>2021-07-01 00:30:52</td>\n",
       "      <td>2021-07-01 00:35:36</td>\n",
       "      <td>0 days 00:04:44</td>\n",
       "      <td>N</td>\n",
       "      <td>1.0</td>\n",
       "      <td>74</td>\n",
       "      <td>168</td>\n",
       "      <td>1.0</td>\n",
       "      <td>1.20</td>\n",
       "      <td>6.0</td>\n",
       "      <td>0.5</td>\n",
       "      <td>0.5</td>\n",
       "      <td>0.00</td>\n",
       "      <td>0.0</td>\n",
       "      <td>NaN</td>\n",
       "      <td>0.3</td>\n",
       "      <td>7.30</td>\n",
       "      <td>2.0</td>\n",
       "      <td>1.0</td>\n",
       "      <td>0.0</td>\n",
       "    </tr>\n",
       "    <tr>\n",
       "      <th>1</th>\n",
       "      <td>2.0</td>\n",
       "      <td>2021-07-01 00:25:36</td>\n",
       "      <td>2021-07-01 01:01:31</td>\n",
       "      <td>0 days 00:35:55</td>\n",
       "      <td>N</td>\n",
       "      <td>1.0</td>\n",
       "      <td>116</td>\n",
       "      <td>265</td>\n",
       "      <td>2.0</td>\n",
       "      <td>13.69</td>\n",
       "      <td>42.0</td>\n",
       "      <td>0.5</td>\n",
       "      <td>0.5</td>\n",
       "      <td>0.00</td>\n",
       "      <td>0.0</td>\n",
       "      <td>NaN</td>\n",
       "      <td>0.3</td>\n",
       "      <td>43.30</td>\n",
       "      <td>2.0</td>\n",
       "      <td>1.0</td>\n",
       "      <td>0.0</td>\n",
       "    </tr>\n",
       "    <tr>\n",
       "      <th>2</th>\n",
       "      <td>2.0</td>\n",
       "      <td>2021-07-01 00:05:58</td>\n",
       "      <td>2021-07-01 00:12:00</td>\n",
       "      <td>0 days 00:06:02</td>\n",
       "      <td>N</td>\n",
       "      <td>1.0</td>\n",
       "      <td>97</td>\n",
       "      <td>33</td>\n",
       "      <td>1.0</td>\n",
       "      <td>0.95</td>\n",
       "      <td>6.5</td>\n",
       "      <td>0.5</td>\n",
       "      <td>0.5</td>\n",
       "      <td>2.34</td>\n",
       "      <td>0.0</td>\n",
       "      <td>NaN</td>\n",
       "      <td>0.3</td>\n",
       "      <td>10.14</td>\n",
       "      <td>1.0</td>\n",
       "      <td>1.0</td>\n",
       "      <td>0.0</td>\n",
       "    </tr>\n",
       "    <tr>\n",
       "      <th>3</th>\n",
       "      <td>2.0</td>\n",
       "      <td>2021-07-01 00:41:40</td>\n",
       "      <td>2021-07-01 00:47:23</td>\n",
       "      <td>0 days 00:05:43</td>\n",
       "      <td>N</td>\n",
       "      <td>1.0</td>\n",
       "      <td>74</td>\n",
       "      <td>42</td>\n",
       "      <td>1.0</td>\n",
       "      <td>1.24</td>\n",
       "      <td>6.5</td>\n",
       "      <td>0.5</td>\n",
       "      <td>0.5</td>\n",
       "      <td>0.00</td>\n",
       "      <td>0.0</td>\n",
       "      <td>NaN</td>\n",
       "      <td>0.3</td>\n",
       "      <td>7.80</td>\n",
       "      <td>2.0</td>\n",
       "      <td>1.0</td>\n",
       "      <td>0.0</td>\n",
       "    </tr>\n",
       "    <tr>\n",
       "      <th>4</th>\n",
       "      <td>2.0</td>\n",
       "      <td>2021-07-01 00:51:32</td>\n",
       "      <td>2021-07-01 00:58:46</td>\n",
       "      <td>0 days 00:07:14</td>\n",
       "      <td>N</td>\n",
       "      <td>1.0</td>\n",
       "      <td>42</td>\n",
       "      <td>244</td>\n",
       "      <td>1.0</td>\n",
       "      <td>1.10</td>\n",
       "      <td>7.0</td>\n",
       "      <td>0.5</td>\n",
       "      <td>0.5</td>\n",
       "      <td>0.00</td>\n",
       "      <td>0.0</td>\n",
       "      <td>NaN</td>\n",
       "      <td>0.3</td>\n",
       "      <td>8.30</td>\n",
       "      <td>2.0</td>\n",
       "      <td>1.0</td>\n",
       "      <td>0.0</td>\n",
       "    </tr>\n",
       "  </tbody>\n",
       "</table>\n",
       "</div>"
      ],
      "text/plain": [
       "   VendorID lpep_pickup_datetime lpep_dropoff_datetime       Trip Time  \\\n",
       "0       1.0  2021-07-01 00:30:52   2021-07-01 00:35:36 0 days 00:04:44   \n",
       "1       2.0  2021-07-01 00:25:36   2021-07-01 01:01:31 0 days 00:35:55   \n",
       "2       2.0  2021-07-01 00:05:58   2021-07-01 00:12:00 0 days 00:06:02   \n",
       "3       2.0  2021-07-01 00:41:40   2021-07-01 00:47:23 0 days 00:05:43   \n",
       "4       2.0  2021-07-01 00:51:32   2021-07-01 00:58:46 0 days 00:07:14   \n",
       "\n",
       "  store_and_fwd_flag  RatecodeID  PULocationID  DOLocationID  passenger_count  \\\n",
       "0                  N         1.0            74           168              1.0   \n",
       "1                  N         1.0           116           265              2.0   \n",
       "2                  N         1.0            97            33              1.0   \n",
       "3                  N         1.0            74            42              1.0   \n",
       "4                  N         1.0            42           244              1.0   \n",
       "\n",
       "   trip_distance  fare_amount  extra  mta_tax  tip_amount  tolls_amount  \\\n",
       "0           1.20          6.0    0.5      0.5        0.00           0.0   \n",
       "1          13.69         42.0    0.5      0.5        0.00           0.0   \n",
       "2           0.95          6.5    0.5      0.5        2.34           0.0   \n",
       "3           1.24          6.5    0.5      0.5        0.00           0.0   \n",
       "4           1.10          7.0    0.5      0.5        0.00           0.0   \n",
       "\n",
       "   ehail_fee  improvement_surcharge  total_amount  payment_type  trip_type  \\\n",
       "0        NaN                    0.3          7.30           2.0        1.0   \n",
       "1        NaN                    0.3         43.30           2.0        1.0   \n",
       "2        NaN                    0.3         10.14           1.0        1.0   \n",
       "3        NaN                    0.3          7.80           2.0        1.0   \n",
       "4        NaN                    0.3          8.30           2.0        1.0   \n",
       "\n",
       "   congestion_surcharge  \n",
       "0                   0.0  \n",
       "1                   0.0  \n",
       "2                   0.0  \n",
       "3                   0.0  \n",
       "4                   0.0  "
      ]
     },
     "execution_count": 88,
     "metadata": {},
     "output_type": "execute_result"
    }
   ],
   "source": [
    "data=data[columns]\n",
    "data.head()"
   ]
  },
  {
   "cell_type": "markdown",
   "id": "72b19eca",
   "metadata": {},
   "source": [
    "#### trim trip time to only show nonzeros (seconds, minutes, maybe hours if nonzero)"
   ]
  },
  {
   "cell_type": "markdown",
   "id": "f4b96198",
   "metadata": {},
   "source": [
    "### Part 4: Run Some Analysis"
   ]
  },
  {
   "cell_type": "markdown",
   "id": "3df82e5e",
   "metadata": {},
   "source": [
    "#### Graph counts for triptimes, look at a few correlations"
   ]
  },
  {
   "cell_type": "code",
   "execution_count": null,
   "id": "7eddd0a6",
   "metadata": {},
   "outputs": [],
   "source": []
  }
 ],
 "metadata": {
  "kernelspec": {
   "display_name": "Python 3 (ipykernel)",
   "language": "python",
   "name": "python3"
  },
  "language_info": {
   "codemirror_mode": {
    "name": "ipython",
    "version": 3
   },
   "file_extension": ".py",
   "mimetype": "text/x-python",
   "name": "python",
   "nbconvert_exporter": "python",
   "pygments_lexer": "ipython3",
   "version": "3.9.7"
  }
 },
 "nbformat": 4,
 "nbformat_minor": 5
}
